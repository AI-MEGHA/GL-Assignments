{
 "cells": [
  {
   "cell_type": "markdown",
   "metadata": {},
   "source": [
    "# STATISTICS_FINAL_EXAM"
   ]
  },
  {
   "cell_type": "markdown",
   "metadata": {},
   "source": [
    "# SECTION A"
   ]
  },
  {
   "cell_type": "markdown",
   "metadata": {},
   "source": [
    "# Q1.)"
   ]
  },
  {
   "cell_type": "raw",
   "metadata": {},
   "source": [
    " The amount of water consumed each day by a healthy adult follows a normal distribution with a mean of 1.52 litres. A sample of 10 adults water consumption in litres is taken and it has a mean of 1.76 litres and S.D of 0.18. Test whether any increase in the consumption of water?\n",
    "(a) State the null hypothesis and the alternate hypothesis. (1 mark)\n",
    "(b) Which test is to be performed. (1 mark)\n",
    "(c) Compute the value of the test statistic. (2 marks)\n",
    "(d) At the 0.05 significance level, can we conclude that water consumption has increased? (1 mark)\n"
   ]
  },
  {
   "cell_type": "code",
   "execution_count": 1,
   "metadata": {},
   "outputs": [],
   "source": [
    "import pandas as pd\n",
    "import numpy as np\n",
    "import scipy.stats as stats"
   ]
  },
  {
   "cell_type": "code",
   "execution_count": 2,
   "metadata": {},
   "outputs": [],
   "source": [
    "n=10\n",
    "mean=1.76\n",
    "sd=0.18"
   ]
  },
  {
   "cell_type": "markdown",
   "metadata": {},
   "source": [
    "# a) \n",
    "    H0 : mu<=1.52\n",
    "\n",
    "    H1: mu.1.52"
   ]
  },
  {
   "cell_type": "markdown",
   "metadata": {},
   "source": [
    "# b) \n",
    "   \n",
    "   It is the test of mean and one-sample t-test must be performed."
   ]
  },
  {
   "cell_type": "markdown",
   "metadata": {},
   "source": [
    "# c) "
   ]
  },
  {
   "cell_type": "code",
   "execution_count": 3,
   "metadata": {},
   "outputs": [
    {
     "data": {
      "text/plain": [
       "4.216370213557839"
      ]
     },
     "execution_count": 3,
     "metadata": {},
     "output_type": "execute_result"
    }
   ],
   "source": [
    "#samples=np.random.randn(200)\n",
    "X = 1.76\n",
    "M =1.52\n",
    "s =0.18\n",
    "n = 10\n",
    "\n",
    "t = (X-M)/ (s/ np.sqrt(n))\n",
    "t"
   ]
  },
  {
   "cell_type": "markdown",
   "metadata": {},
   "source": [
    "# d)"
   ]
  },
  {
   "cell_type": "markdown",
   "metadata": {},
   "source": [
    "\n",
    "Since t value is greater than 1.96 we fail to accept alternate hypothesis. So,we can conclude that water has not increased"
   ]
  },
  {
   "cell_type": "markdown",
   "metadata": {},
   "source": [
    "# Q2."
   ]
  },
  {
   "cell_type": "raw",
   "metadata": {},
   "source": [
    "\n",
    "Now a days the online streaming services like Netflix, Amazon prime, is playing dominant role in the entertainment industry.  A public opinion poll surveyed on whether these online streaming services are better than cinema halls? on a sample of 100 random people (classified as teen/Adults/Senior Citizen) with a closed ended question (Yes or No). The details are captured in ‘Online_straming.xlsx’. dataset Is there any association between age category and voting preference? (Use level of significance as 5%)\n",
    "A. Frame Null and Alternate Hypothesis ( 1 Mark )\n",
    "B. State which test to be conducted. ( 1 Mark )\n",
    "C. Find the test statistic (2 Mark )\n",
    "D. Interpret the results (1 Mark)\n"
   ]
  },
  {
   "cell_type": "code",
   "execution_count": 4,
   "metadata": {},
   "outputs": [
    {
     "data": {
      "text/html": [
       "<div>\n",
       "<style scoped>\n",
       "    .dataframe tbody tr th:only-of-type {\n",
       "        vertical-align: middle;\n",
       "    }\n",
       "\n",
       "    .dataframe tbody tr th {\n",
       "        vertical-align: top;\n",
       "    }\n",
       "\n",
       "    .dataframe thead th {\n",
       "        text-align: right;\n",
       "    }\n",
       "</style>\n",
       "<table border=\"1\" class=\"dataframe\">\n",
       "  <thead>\n",
       "    <tr style=\"text-align: right;\">\n",
       "      <th></th>\n",
       "      <th>Age</th>\n",
       "      <th>Preference</th>\n",
       "    </tr>\n",
       "  </thead>\n",
       "  <tbody>\n",
       "    <tr>\n",
       "      <th>0</th>\n",
       "      <td>Teen</td>\n",
       "      <td>Yes</td>\n",
       "    </tr>\n",
       "    <tr>\n",
       "      <th>1</th>\n",
       "      <td>Teen</td>\n",
       "      <td>Yes</td>\n",
       "    </tr>\n",
       "    <tr>\n",
       "      <th>2</th>\n",
       "      <td>Teen</td>\n",
       "      <td>Yes</td>\n",
       "    </tr>\n",
       "    <tr>\n",
       "      <th>3</th>\n",
       "      <td>Teen</td>\n",
       "      <td>Yes</td>\n",
       "    </tr>\n",
       "    <tr>\n",
       "      <th>4</th>\n",
       "      <td>Teen</td>\n",
       "      <td>Yes</td>\n",
       "    </tr>\n",
       "  </tbody>\n",
       "</table>\n",
       "</div>"
      ],
      "text/plain": [
       "    Age Preference\n",
       "0  Teen        Yes\n",
       "1  Teen        Yes\n",
       "2  Teen        Yes\n",
       "3  Teen        Yes\n",
       "4  Teen        Yes"
      ]
     },
     "execution_count": 4,
     "metadata": {},
     "output_type": "execute_result"
    }
   ],
   "source": [
    "df = pd.read_excel(\"Online_Streaming.xlsx\")\n",
    "df.head()\n",
    "  "
   ]
  },
  {
   "cell_type": "markdown",
   "metadata": {},
   "source": [
    "# A)"
   ]
  },
  {
   "cell_type": "raw",
   "metadata": {},
   "source": [
    "# Null Hypothesis : The proportion of Adults saying YES is equal to the proportion of Senior Citizens saying YES is equal to the proportion of Teens saying YES\n",
    "\n",
    " "
   ]
  },
  {
   "cell_type": "raw",
   "metadata": {},
   "source": [
    "# Alternate Hypothesis : The proportion of Adults saying YES is not equal to the proportion of Senior Citizens saying YES is not equal to the proportion of Teens saying YES"
   ]
  },
  {
   "cell_type": "markdown",
   "metadata": {},
   "source": [
    "# B) \n"
   ]
  },
  {
   "cell_type": "code",
   "execution_count": 5,
   "metadata": {},
   "outputs": [
    {
     "data": {
      "text/html": [
       "<div>\n",
       "<style scoped>\n",
       "    .dataframe tbody tr th:only-of-type {\n",
       "        vertical-align: middle;\n",
       "    }\n",
       "\n",
       "    .dataframe tbody tr th {\n",
       "        vertical-align: top;\n",
       "    }\n",
       "\n",
       "    .dataframe thead th {\n",
       "        text-align: right;\n",
       "    }\n",
       "</style>\n",
       "<table border=\"1\" class=\"dataframe\">\n",
       "  <thead>\n",
       "    <tr style=\"text-align: right;\">\n",
       "      <th>Age</th>\n",
       "      <th>Adult</th>\n",
       "      <th>Senior Citizen</th>\n",
       "      <th>Teen</th>\n",
       "    </tr>\n",
       "    <tr>\n",
       "      <th>Preference</th>\n",
       "      <th></th>\n",
       "      <th></th>\n",
       "      <th></th>\n",
       "    </tr>\n",
       "  </thead>\n",
       "  <tbody>\n",
       "    <tr>\n",
       "      <th>No</th>\n",
       "      <td>17</td>\n",
       "      <td>15</td>\n",
       "      <td>10</td>\n",
       "    </tr>\n",
       "    <tr>\n",
       "      <th>Yes</th>\n",
       "      <td>13</td>\n",
       "      <td>12</td>\n",
       "      <td>32</td>\n",
       "    </tr>\n",
       "  </tbody>\n",
       "</table>\n",
       "</div>"
      ],
      "text/plain": [
       "Age         Adult  Senior Citizen  Teen\n",
       "Preference                             \n",
       "No             17              15    10\n",
       "Yes            13              12    32"
      ]
     },
     "execution_count": 5,
     "metadata": {},
     "output_type": "execute_result"
    }
   ],
   "source": [
    "freq = pd.crosstab(df.Preference, df.Age)\n",
    "freq\n",
    "   "
   ]
  },
  {
   "cell_type": "markdown",
   "metadata": {},
   "source": [
    "# Test of proportion should be conducted,chi-square test"
   ]
  },
  {
   "cell_type": "markdown",
   "metadata": {},
   "source": [
    "# C)"
   ]
  },
  {
   "cell_type": "code",
   "execution_count": 6,
   "metadata": {},
   "outputs": [
    {
     "name": "stdout",
     "output_type": "stream",
     "text": [
      "0.005640745787809177\n"
     ]
    }
   ],
   "source": [
    "from scipy.stats import chi2_contingency\n",
    "ch_val, p_val, nrow, EC = chi2_contingency(freq)\n",
    "print(p_val)  "
   ]
  },
  {
   "cell_type": "code",
   "execution_count": 7,
   "metadata": {},
   "outputs": [
    {
     "name": "stdout",
     "output_type": "stream",
     "text": [
      "the value of test statistics is: (10.355477980665949, 0.005640745787809177)\n"
     ]
    }
   ],
   "source": [
    "ct = pd.crosstab(df['Age'],df['Preference'])\n",
    "test_statistics = stats.chi2_contingency(ct)[0:2]\n",
    "print(\"the value of test statistics is:\",test_statistics)"
   ]
  },
  {
   "cell_type": "markdown",
   "metadata": {},
   "source": [
    "# D)"
   ]
  },
  {
   "cell_type": "markdown",
   "metadata": {},
   "source": [
    "# P-value (0.0056) is less than our level of significance (i.e less than 0.05).Hence we reject the null hypothesis and alternate hypothesis holds true"
   ]
  },
  {
   "cell_type": "markdown",
   "metadata": {},
   "source": [
    "# So, there is an association between age and preference"
   ]
  },
  {
   "cell_type": "markdown",
   "metadata": {},
   "source": [
    "# Q.3)"
   ]
  },
  {
   "cell_type": "raw",
   "metadata": {},
   "source": [
    " By the survey conducted by YRBSS the average number of days that students lift the weights in a week is 3 days. In a sample of 100 students from the YRBSS survey of 2013, the average number of days per week that students lifted weights was 2.78 days with a standard deviation of 1.56 days. Assume that the number of days follows normal distribution, test whether there is a difference in the average number of days of overall survey of YRBSS survey and 2013 YRBSS survey?\n",
    "a) Frame Null and Alternate Hypothesis (2 mark)\n",
    "b) Compute a 95% confidence interval for number of days that student lift the weights for the 2013 YRBSS survey. (2 mark)\n",
    "c) Interpret the result (1 mark)\n"
   ]
  },
  {
   "cell_type": "markdown",
   "metadata": {},
   "source": [
    "\n",
    "\n",
    "# a) Frame Null and Alternate Hypothesis (2 mark)\n",
    "\n"
   ]
  },
  {
   "cell_type": "raw",
   "metadata": {},
   "source": [
    "null hypothesis (H0): The average number of days that students lift the weights in a week is equal to 3 days\n",
    "Alternate Hypothesis(Ha) : The average number of days that students lift the weights in a week is not equal to 3 days"
   ]
  },
  {
   "cell_type": "markdown",
   "metadata": {},
   "source": [
    "# b)"
   ]
  },
  {
   "cell_type": "code",
   "execution_count": 8,
   "metadata": {},
   "outputs": [
    {
     "name": "stdout",
     "output_type": "stream",
     "text": [
      "95 % confidence interval for population mean is 2.4742  to 3.0858\n"
     ]
    }
   ],
   "source": [
    "#b) Compute a 95% confidence interval for number of days that student lift the weights for the 2013 YRBSS survey. (2 mark)\n",
    "ci     = 0.95\n",
    "Xavg   = 2.78\n",
    "sigma  = 1.56\n",
    "n = 100\n",
    "s      = sigma / np.sqrt(n)\n",
    "LCI, UCI = stats.norm.interval(ci, loc = Xavg, scale = s) # confidence interval 95%, mean and std as arguments to get CI\n",
    "print('95 %s confidence interval for population mean is %1.4f  to %1.4f' % ('%', LCI , UCI))\n",
    "\n"
   ]
  },
  {
   "cell_type": "markdown",
   "metadata": {},
   "source": [
    "# c)"
   ]
  },
  {
   "cell_type": "code",
   "execution_count": 9,
   "metadata": {},
   "outputs": [
    {
     "name": "stdout",
     "output_type": "stream",
     "text": [
      " Probability of difference in the average number of days of overall survey is 0.4439\n"
     ]
    }
   ],
   "source": [
    "#c) Interpret the result (1 mark)\n",
    "mu = 3\n",
    "z  = (2.78 - mu) / sigma # X = 2.78\n",
    "P  = stats.norm.cdf(z)\n",
    "print(' Probability of difference in the average number of days of overall survey is %1.4f' % P)\n"
   ]
  },
  {
   "cell_type": "markdown",
   "metadata": {},
   "source": [
    "# The 95% avg no.of days the students lift the weights is in between 2.474245 and 3.085754. So, there is no difference in the average num of days of overall survey of YRBSS survey and 2013 YRBSS survey. We fail to reject null hypothesis."
   ]
  },
  {
   "cell_type": "markdown",
   "metadata": {},
   "source": [
    "# Considering the p-value, with 95% confidence interval the null hypothesis is accepted.The claim by YRBSS is accepted and the average number of days that students lift the weights in a week is 3 days."
   ]
  },
  {
   "cell_type": "markdown",
   "metadata": {},
   "source": [
    "# Q4.)"
   ]
  },
  {
   "cell_type": "raw",
   "metadata": {},
   "source": [
    "\n",
    "State wide, the average score on the verbal portion of the college entrance exam is 453, with a standard deviation of 95. A random sample of 137 students at Little Wood Regional High School shows a mean score of 502. Is there a significant difference between the average scores of population and sample?\n",
    "(a) State the null hypothesis and the alternate hypothesis. (1 mark)\n",
    "(b) Which test is to be performed. (1 mark)\n",
    "(c) Compute the value of the test statistic. (2 marks)\n",
    "(d) interpret the result? (1 mark)\n"
   ]
  },
  {
   "cell_type": "markdown",
   "metadata": {},
   "source": [
    "# 4. a.)"
   ]
  },
  {
   "cell_type": "raw",
   "metadata": {},
   "source": [
    "\n",
    "null hypothesis (H0): no significant difference between avg scores of the population  "
   ]
  },
  {
   "cell_type": "raw",
   "metadata": {},
   "source": [
    " alternate hypothesis(H1) : significant difference between avg scores of the population and sample."
   ]
  },
  {
   "cell_type": "markdown",
   "metadata": {},
   "source": [
    "# 4.b)"
   ]
  },
  {
   "cell_type": "markdown",
   "metadata": {},
   "source": [
    "# Test of mean."
   ]
  },
  {
   "cell_type": "markdown",
   "metadata": {},
   "source": [
    "# 4.c.)"
   ]
  },
  {
   "cell_type": "code",
   "execution_count": 10,
   "metadata": {},
   "outputs": [
    {
     "name": "stdout",
     "output_type": "stream",
     "text": [
      "value of test statistics is: 6.037161006581702\n"
     ]
    }
   ],
   "source": [
    "test_statistics = (502-453)/(95/np.sqrt(137))\n",
    "print('value of test statistics is:',test_statistics)"
   ]
  },
  {
   "cell_type": "markdown",
   "metadata": {},
   "source": [
    "# We perform z test for this as we know the sample standard deviation with 5% level of significance"
   ]
  },
  {
   "cell_type": "code",
   "execution_count": 11,
   "metadata": {},
   "outputs": [
    {
     "data": {
      "text/plain": [
       "6.037161006581702"
      ]
     },
     "execution_count": 11,
     "metadata": {},
     "output_type": "execute_result"
    }
   ],
   "source": [
    "n=137\n",
    "std=95\n",
    "mu=502\n",
    "\n",
    "Ho=453\n",
    "\n",
    "se=std/np.sqrt(n)\n",
    "z_val=(mu-Ho)/se\n",
    "z_val"
   ]
  },
  {
   "cell_type": "markdown",
   "metadata": {},
   "source": [
    "# Since the calculated Z value is greater than the critical z value at 5% which is 1.96. We fail to accept the null hypothesis and hencewe conclude that there is difference between sample score and actual score."
   ]
  },
  {
   "cell_type": "markdown",
   "metadata": {},
   "source": [
    "# 4.d.)"
   ]
  },
  {
   "cell_type": "code",
   "execution_count": 12,
   "metadata": {},
   "outputs": [
    {
     "data": {
      "text/plain": [
       "0.999999999215754"
      ]
     },
     "execution_count": 12,
     "metadata": {},
     "output_type": "execute_result"
    }
   ],
   "source": [
    "stats.norm.cdf(test_statistics)"
   ]
  },
  {
   "cell_type": "markdown",
   "metadata": {},
   "source": [
    "# Since p-value is greater than 0.05 and test_statistics score is more than 1.96 we reject null hypothesis"
   ]
  },
  {
   "cell_type": "markdown",
   "metadata": {},
   "source": [
    "# Section B"
   ]
  },
  {
   "cell_type": "raw",
   "metadata": {},
   "source": [
    "Q5.(a) In a survey, 200 people were asked to identify their major source of news information; 110\n",
    "stated that their major source was television news.\n",
    "i. Construct a 95% confidence interval for the proportion of people in the population\n",
    "who consider television their major source of news information. (2 marks) \n",
    "ii. How large a sample would be necessary to estimate the population proportion with a\n",
    "margin of error of .05 at 95% confidence? (2 marks) \n"
   ]
  },
  {
   "cell_type": "markdown",
   "metadata": {},
   "source": [
    "# 5.a)"
   ]
  },
  {
   "cell_type": "code",
   "execution_count": 13,
   "metadata": {},
   "outputs": [
    {
     "name": "stdout",
     "output_type": "stream",
     "text": [
      "the 95% confidence interval for the proportion of people in the population is: 0.4810508883305956 0.6189491116694045\n"
     ]
    }
   ],
   "source": [
    "#1)\n",
    "x = 110\n",
    "n = 200\n",
    "c = 0.05\n",
    "p = x/n\n",
    "lv = p - 1.96*(np.sqrt(p*(1-p)/n))\n",
    "uv = p + 1.96*(np.sqrt(p*(1-p)/n))\n",
    "print(\"the 95% confidence interval for the proportion of people in the population is:\",lv,uv)"
   ]
  },
  {
   "cell_type": "code",
   "execution_count": 14,
   "metadata": {},
   "outputs": [
    {
     "data": {
      "text/plain": [
       "380.31839999999994"
      ]
     },
     "execution_count": 14,
     "metadata": {},
     "output_type": "execute_result"
    }
   ],
   "source": [
    "n = (1.96*1.96)*(p*(1-p)/(0.05*0.05))\n",
    "n"
   ]
  },
  {
   "cell_type": "markdown",
   "metadata": {},
   "source": [
    "# the 95% confidence interval for the proportion of people in the population is: 0.4810508883305956 to  0.6189491116694045"
   ]
  },
  {
   "cell_type": "raw",
   "metadata": {},
   "source": [
    "Q5. (b) Phone calls arrive at the rate of 48 per hour at the reservation desk for Regional Airways. \n",
    "a. Compute the probability of receiving three calls in a 5-minute interval of time. (2marks)\n",
    "b. Compute the probability of receiving exactly 10 calls in 15 minutes. (2 marks)\n",
    "c.  Compute the probability of receiving not more than 15 calls but not less than 10 calls. (2 marks)\n"
   ]
  },
  {
   "cell_type": "markdown",
   "metadata": {},
   "source": [
    "# 5) B)\n",
    "\n"
   ]
  },
  {
   "cell_type": "code",
   "execution_count": 15,
   "metadata": {},
   "outputs": [
    {
     "name": "stdout",
     "output_type": "stream",
     "text": [
      "probability of receiving three calls in a 5-minute interval of time is  0.19536681481316454\n"
     ]
    }
   ],
   "source": [
    "m=48\n",
    "c= stats.poisson.pmf(np.arange(0,10),(m/60)*5)\n",
    "print ('probability of receiving three calls in a 5-minute interval of time is ',c[3])\n"
   ]
  },
  {
   "cell_type": "code",
   "execution_count": 16,
   "metadata": {},
   "outputs": [
    {
     "name": "stdout",
     "output_type": "stream",
     "text": [
      "probability of receiving exactly 10 calls in 15 minutes is  0.10483725588365922\n"
     ]
    }
   ],
   "source": [
    "c= stats.poisson.pmf(np.arange(0,30),(m/60)*15)\n",
    "print ('probability of receiving exactly 10 calls in 15 minutes is ',c[10])\n"
   ]
  },
  {
   "cell_type": "code",
   "execution_count": 17,
   "metadata": {},
   "outputs": [
    {
     "name": "stdout",
     "output_type": "stream",
     "text": [
      "the probability of receiving not more than 15 calls but not less than 10 calls in an hour is  2.5888869275826183e-08\n"
     ]
    }
   ],
   "source": [
    "call_p = stats.poisson.pmf(np.arange(0,80),m)                                                    \n",
    "print ('the probability of receiving not more than 15 calls but not less than 10 calls in an hour is ',\n",
    " call_p[10]+call_p[11]+call_p[12]+call_p[13]+call_p[14]+call_p[15])"
   ]
  },
  {
   "cell_type": "code",
   "execution_count": 18,
   "metadata": {},
   "outputs": [
    {
     "data": {
      "text/plain": [
       "array([4.53999298e-05, 4.53999298e-04, 2.26999649e-03, 7.56665496e-03,\n",
       "       1.89166374e-02, 3.78332748e-02, 6.30554580e-02, 9.00792257e-02,\n",
       "       1.12599032e-01, 1.25110036e-01, 1.25110036e-01, 1.13736396e-01,\n",
       "       9.47803301e-02, 7.29079462e-02, 5.20771044e-02])"
      ]
     },
     "execution_count": 18,
     "metadata": {},
     "output_type": "execute_result"
    }
   ],
   "source": [
    "\n",
    "n=np.arange(0,15)\n",
    "rate=10\n",
    "p= stats.poisson.pmf(n,rate)\n",
    "p"
   ]
  },
  {
   "cell_type": "markdown",
   "metadata": {},
   "source": [
    "# 6.)"
   ]
  },
  {
   "cell_type": "raw",
   "metadata": {},
   "source": [
    "6(a). The below data shows the number of people travelling from Hyderabad to Mumbai and Mumbai to Delhi. Is there evidence to conclude that the number of people travelling from Hyderabad to Mumbai is different from the number of people travelling from Mumbai to Delhi in a week.\n",
    "Population 1: Hyderabad to Mumbai \n",
    "        n1 = 1200\n",
    "        x1 = 452\n",
    "        s1 = 12\n",
    "Population 2: Mumbai to Delhi \n",
    "        n2 = 800\n",
    "        x2 = 523\n",
    "        s2 = 18\n",
    "1.State null and Alternate Hypothesis.  (1 mark)\n",
    "2.find the test statistic and critical value. (3 mark)\n",
    "3.Interpret the result. (1 mark)\n",
    "\n",
    "\n"
   ]
  },
  {
   "cell_type": "markdown",
   "metadata": {},
   "source": [
    "# A)"
   ]
  },
  {
   "cell_type": "raw",
   "metadata": {},
   "source": [
    "NULL HYPOTHESIS: The number of people travelling from Hyderabad to Mumbai is different from the number of people travelling\n",
    "                 from Mumbai to Delhi in a week.\n",
    "\n",
    "ALTERNATE HYPOTHESIS: The number of people travelling from Hyderabad to Mumbai is not different\n",
    "                     from the number of people travelling from Mumbai to Delhi in a week."
   ]
  },
  {
   "cell_type": "code",
   "execution_count": 50,
   "metadata": {},
   "outputs": [
    {
     "name": "stdout",
     "output_type": "stream",
     "text": [
      " a. Proportion of the people are spending more than 9 hours in in sleeping daily is 0.0668\n"
     ]
    }
   ],
   "source": [
    "mu    = 7.5 # minutes\n",
    "sigma = 1\n",
    "z  = (9 - mu) / sigma # X = 9\n",
    "P  = 1 - stats.norm.cdf(z)\n",
    "print(' a. Proportion of the people are spending more than 9 hours in in sleeping daily is %1.4f' % P)"
   ]
  },
  {
   "cell_type": "code",
   "execution_count": 51,
   "metadata": {},
   "outputs": [
    {
     "name": "stdout",
     "output_type": "stream",
     "text": [
      " b. Proportion of customers are spending less than 6 hours in sleeping daily is 0.0668\n"
     ]
    }
   ],
   "source": [
    "z1  =  (6 - mu) / sigma # X = 6\n",
    "P   =  stats.norm.cdf(z1)\n",
    "print(' b. Proportion of customers are spending less than 6 hours in sleeping daily is %1.4f' % P)"
   ]
  },
  {
   "cell_type": "code",
   "execution_count": null,
   "metadata": {},
   "outputs": [],
   "source": []
  },
  {
   "cell_type": "markdown",
   "metadata": {},
   "source": [
    "# 6(b)"
   ]
  },
  {
   "cell_type": "raw",
   "metadata": {},
   "source": [
    "6(b). A survey on amount of time given by people (above 14 years) for sleep was conducted and it is observed that people spend 7.5hrs for sleeping in a day and the corresponding standard deviation is 1 hour.\n",
    "* Assume that the time spent in sleeping by people follows a normal distribution. \n",
    "* a) What proportion of the people are spending more than 9 hours in sleeping daily? (1.5 mark)\n",
    "* b) What proportion of customers are spending less than 6 hours in sleeping daily?  (1.5 mark)\n",
    "* c) What proportion of customers are spending between 6.5 hours and 8 hours in sleeping daily? (2 mark)"
   ]
  },
  {
   "cell_type": "code",
   "execution_count": 19,
   "metadata": {},
   "outputs": [
    {
     "name": "stdout",
     "output_type": "stream",
     "text": [
      " a. Proportion of the people are spending more than 9 hours in in sleeping daily is 0.0668\n"
     ]
    }
   ],
   "source": [
    " mu    = 7.5 # minutes\n",
    "sigma = 1\n",
    "z  = (9 - mu) / sigma # X = 9\n",
    "P  = 1 - stats.norm.cdf(z)\n",
    "print(' a. Proportion of the people are spending more than 9 hours in in sleeping daily is %1.4f' % P)\n",
    "\n"
   ]
  },
  {
   "cell_type": "code",
   "execution_count": 20,
   "metadata": {},
   "outputs": [
    {
     "name": "stdout",
     "output_type": "stream",
     "text": [
      " b. Proportion of customers are spending less than 6 hours in sleeping daily is 0.0668\n"
     ]
    }
   ],
   "source": [
    "z1  =  (6 - mu) / sigma # X = 6\n",
    "P   =  stats.norm.cdf(z1)\n",
    "print(' b. Proportion of customers are spending less than 6 hours in sleeping daily is %1.4f' % P)\n",
    "\n"
   ]
  },
  {
   "cell_type": "code",
   "execution_count": 21,
   "metadata": {},
   "outputs": [
    {
     "name": "stdout",
     "output_type": "stream",
     "text": [
      " c. Proportion of customers are spending between 6.5 hours and 8 hours in sleeping daily is 0.5328\n"
     ]
    }
   ],
   "source": [
    "z1  =  (6.5 - mu) / sigma   # X = 6.5\n",
    "z2  =  (8 - mu) / sigma  # X = 8\n",
    "P1   =  stats.norm.cdf(z1)\n",
    "P2   =  stats.norm.cdf(z2)\n",
    "P    =  P2 - P1\n",
    "print(' c. Proportion of customers are spending between 6.5 hours and 8 hours in sleeping daily is %1.4f' % P)"
   ]
  },
  {
   "cell_type": "markdown",
   "metadata": {},
   "source": [
    "# Q7.)"
   ]
  },
  {
   "cell_type": "raw",
   "metadata": {},
   "source": [
    "Venn’s pizza is famous chain restaurant near university campuses. The management of the chain believes that the monthly sales depends on student population on the campus. The following observations were drawn from 10 randomly chosen campuses. \n",
    "\n",
    "Restaurant\t                1\t2\t3\t4\t5\t6\t7\t8\t9\t10\n",
    "Population in thousands     2\t6\t8\t8\t12\t16\t20\t20\t22\t26\n",
    "Sales in Rs. lakhs\t        58\t105\t88\t118\t117\t137\t157\t169\t149\t202\n",
    "1.Create a data frame and plot the correlation among variables Visualize the linear relationship between Variables (5 marks)\n",
    "2.Build a regression model to predict sales with population as independent variable & find the intercept and coefficients and interpret the model summary. (5 Marks)\n",
    "\n",
    "\n"
   ]
  },
  {
   "cell_type": "code",
   "execution_count": 22,
   "metadata": {},
   "outputs": [],
   "source": [
    "import pandas as pd\n",
    "import seaborn as sns\n",
    "import statsmodels.formula.api as smf\n",
    "import numpy as np\n",
    "import statsmodels.api as sm\n",
    "%matplotlib inline\n",
    "from sklearn.linear_model import LinearRegression\n",
    "import matplotlib.pyplot as plt   \n",
    "from sklearn import metrics"
   ]
  },
  {
   "cell_type": "code",
   "execution_count": 23,
   "metadata": {},
   "outputs": [],
   "source": [
    "import pandas as pd\n",
    "df=pd.DataFrame({\n",
    "    \"Resturant\":[1,2,3,4,5,6,7,8,9,10],\n",
    "    \"Population\":[2,6,8,8,12,16,20,20,22,26],\n",
    "    \"Sales\":[58,105,88,118,117,137,157,169,149,202]\n",
    "    \n",
    "    \n",
    "})"
   ]
  },
  {
   "cell_type": "code",
   "execution_count": 24,
   "metadata": {},
   "outputs": [
    {
     "data": {
      "text/html": [
       "<div>\n",
       "<style scoped>\n",
       "    .dataframe tbody tr th:only-of-type {\n",
       "        vertical-align: middle;\n",
       "    }\n",
       "\n",
       "    .dataframe tbody tr th {\n",
       "        vertical-align: top;\n",
       "    }\n",
       "\n",
       "    .dataframe thead th {\n",
       "        text-align: right;\n",
       "    }\n",
       "</style>\n",
       "<table border=\"1\" class=\"dataframe\">\n",
       "  <thead>\n",
       "    <tr style=\"text-align: right;\">\n",
       "      <th></th>\n",
       "      <th>Resturant</th>\n",
       "      <th>Population</th>\n",
       "      <th>Sales</th>\n",
       "    </tr>\n",
       "  </thead>\n",
       "  <tbody>\n",
       "    <tr>\n",
       "      <th>0</th>\n",
       "      <td>1</td>\n",
       "      <td>2</td>\n",
       "      <td>58</td>\n",
       "    </tr>\n",
       "    <tr>\n",
       "      <th>1</th>\n",
       "      <td>2</td>\n",
       "      <td>6</td>\n",
       "      <td>105</td>\n",
       "    </tr>\n",
       "    <tr>\n",
       "      <th>2</th>\n",
       "      <td>3</td>\n",
       "      <td>8</td>\n",
       "      <td>88</td>\n",
       "    </tr>\n",
       "    <tr>\n",
       "      <th>3</th>\n",
       "      <td>4</td>\n",
       "      <td>8</td>\n",
       "      <td>118</td>\n",
       "    </tr>\n",
       "    <tr>\n",
       "      <th>4</th>\n",
       "      <td>5</td>\n",
       "      <td>12</td>\n",
       "      <td>117</td>\n",
       "    </tr>\n",
       "    <tr>\n",
       "      <th>5</th>\n",
       "      <td>6</td>\n",
       "      <td>16</td>\n",
       "      <td>137</td>\n",
       "    </tr>\n",
       "    <tr>\n",
       "      <th>6</th>\n",
       "      <td>7</td>\n",
       "      <td>20</td>\n",
       "      <td>157</td>\n",
       "    </tr>\n",
       "    <tr>\n",
       "      <th>7</th>\n",
       "      <td>8</td>\n",
       "      <td>20</td>\n",
       "      <td>169</td>\n",
       "    </tr>\n",
       "    <tr>\n",
       "      <th>8</th>\n",
       "      <td>9</td>\n",
       "      <td>22</td>\n",
       "      <td>149</td>\n",
       "    </tr>\n",
       "    <tr>\n",
       "      <th>9</th>\n",
       "      <td>10</td>\n",
       "      <td>26</td>\n",
       "      <td>202</td>\n",
       "    </tr>\n",
       "  </tbody>\n",
       "</table>\n",
       "</div>"
      ],
      "text/plain": [
       "   Resturant  Population  Sales\n",
       "0          1           2     58\n",
       "1          2           6    105\n",
       "2          3           8     88\n",
       "3          4           8    118\n",
       "4          5          12    117\n",
       "5          6          16    137\n",
       "6          7          20    157\n",
       "7          8          20    169\n",
       "8          9          22    149\n",
       "9         10          26    202"
      ]
     },
     "execution_count": 24,
     "metadata": {},
     "output_type": "execute_result"
    }
   ],
   "source": [
    "df"
   ]
  },
  {
   "cell_type": "code",
   "execution_count": 25,
   "metadata": {},
   "outputs": [
    {
     "data": {
      "image/png": "[encoded data removed]",
      "text/plain": [
       "<Figure size 540x540 with 12 Axes>"
      ]
     },
     "metadata": {
      "needs_background": "light"
     },
     "output_type": "display_data"
    }
   ],
   "source": [
    "import matplotlib.pyplot as plt\n",
    "from matplotlib import rcParams\n",
    "rcParams[\"figure.figsize\"]=12,9\n",
    "import seaborn as sns\n",
    "sns.pairplot(df)\n",
    "plt.show()"
   ]
  },
  {
   "cell_type": "code",
   "execution_count": 26,
   "metadata": {},
   "outputs": [],
   "source": [
    "import matplotlib.pyplot as plt\n",
    "from matplotlib import rcParams\n",
    "rcParams[\"figure.figsize\"]=12,9\n",
    "import seaborn as sns\n",
    "a=df.corr()"
   ]
  },
  {
   "cell_type": "code",
   "execution_count": 27,
   "metadata": {},
   "outputs": [
    {
     "data": {
      "text/plain": [
       "<matplotlib.axes._subplots.AxesSubplot at 0x1d556965748>"
      ]
     },
     "execution_count": 27,
     "metadata": {},
     "output_type": "execute_result"
    },
    {
     "data": {
      "image/png": "[encoded data removed]",
      "text/plain": [
       "<Figure size 864x648 with 2 Axes>"
      ]
     },
     "metadata": {
      "needs_background": "light"
     },
     "output_type": "display_data"
    }
   ],
   "source": [
    "sns.heatmap(a,annot=True)"
   ]
  },
  {
   "cell_type": "code",
   "execution_count": 28,
   "metadata": {},
   "outputs": [
    {
     "name": "stderr",
     "output_type": "stream",
     "text": [
      "C:\\Users\\Megha Singhal\\Anaconda3\\lib\\site-packages\\seaborn\\axisgrid.py:2065: UserWarning: The `size` parameter has been renamed to `height`; pleaes update your code.\n",
      "  warnings.warn(msg, UserWarning)\n"
     ]
    },
    {
     "data": {
      "text/plain": [
       "<seaborn.axisgrid.PairGrid at 0x1d556bbcc18>"
      ]
     },
     "execution_count": 28,
     "metadata": {},
     "output_type": "execute_result"
    },
    {
     "data": {
      "image/png": "[encoded data removed]",
      "text/plain": [
       "<Figure size 705.6x504 with 2 Axes>"
      ]
     },
     "metadata": {
      "needs_background": "light"
     },
     "output_type": "display_data"
    }
   ],
   "source": [
    "sns.pairplot(df,x_vars=['Resturant','Population'], y_vars='Sales', size=7, aspect=0.7)"
   ]
  },
  {
   "cell_type": "markdown",
   "metadata": {},
   "source": [
    "# Population in thousands and Resturant is strongly correlated with Sales in lakhs."
   ]
  },
  {
   "cell_type": "markdown",
   "metadata": {},
   "source": [
    "# Plot each independent variable using the regression line"
   ]
  },
  {
   "cell_type": "code",
   "execution_count": 29,
   "metadata": {},
   "outputs": [
    {
     "name": "stderr",
     "output_type": "stream",
     "text": [
      "C:\\Users\\Megha Singhal\\Anaconda3\\lib\\site-packages\\seaborn\\axisgrid.py:2065: UserWarning: The `size` parameter has been renamed to `height`; pleaes update your code.\n",
      "  warnings.warn(msg, UserWarning)\n"
     ]
    },
    {
     "data": {
      "text/plain": [
       "<seaborn.axisgrid.PairGrid at 0x1d556df1da0>"
      ]
     },
     "execution_count": 29,
     "metadata": {},
     "output_type": "execute_result"
    },
    {
     "data": {
      "image/png": "[encoded data removed]",
      "text/plain": [
       "<Figure size 705.6x504 with 2 Axes>"
      ]
     },
     "metadata": {
      "needs_background": "light"
     },
     "output_type": "display_data"
    }
   ],
   "source": [
    "sns.pairplot(df, x_vars=['Resturant','Population'], y_vars='Sales', size=7, aspect=0.7, kind='reg')"
   ]
  },
  {
   "cell_type": "code",
   "execution_count": 30,
   "metadata": {},
   "outputs": [
    {
     "data": {
      "text/plain": [
       "Intercept     60.0\n",
       "Population     5.0\n",
       "dtype: float64"
      ]
     },
     "execution_count": 30,
     "metadata": {},
     "output_type": "execute_result"
    }
   ],
   "source": [
    "lm1 = smf.ols(formula='Sales ~ Population', data=df).fit()\n",
    "\n",
    "# print the coefficients\n",
    "lm1.params"
   ]
  },
  {
   "cell_type": "code",
   "execution_count": 31,
   "metadata": {},
   "outputs": [],
   "source": [
    "X=df['Population']\n",
    "y=df[\"Sales\"]"
   ]
  },
  {
   "cell_type": "code",
   "execution_count": 32,
   "metadata": {},
   "outputs": [
    {
     "name": "stderr",
     "output_type": "stream",
     "text": [
      "C:\\Users\\Megha Singhal\\Anaconda3\\lib\\site-packages\\numpy\\core\\fromnumeric.py:2389: FutureWarning: Method .ptp is deprecated and will be removed in a future version. Use numpy.ptp instead.\n",
      "  return ptp(axis=axis, out=out, **kwargs)\n"
     ]
    },
    {
     "data": {
      "text/html": [
       "<div>\n",
       "<style scoped>\n",
       "    .dataframe tbody tr th:only-of-type {\n",
       "        vertical-align: middle;\n",
       "    }\n",
       "\n",
       "    .dataframe tbody tr th {\n",
       "        vertical-align: top;\n",
       "    }\n",
       "\n",
       "    .dataframe thead th {\n",
       "        text-align: right;\n",
       "    }\n",
       "</style>\n",
       "<table border=\"1\" class=\"dataframe\">\n",
       "  <thead>\n",
       "    <tr style=\"text-align: right;\">\n",
       "      <th></th>\n",
       "      <th>const</th>\n",
       "      <th>Population</th>\n",
       "    </tr>\n",
       "  </thead>\n",
       "  <tbody>\n",
       "    <tr>\n",
       "      <th>0</th>\n",
       "      <td>1.0</td>\n",
       "      <td>2</td>\n",
       "    </tr>\n",
       "    <tr>\n",
       "      <th>1</th>\n",
       "      <td>1.0</td>\n",
       "      <td>6</td>\n",
       "    </tr>\n",
       "    <tr>\n",
       "      <th>2</th>\n",
       "      <td>1.0</td>\n",
       "      <td>8</td>\n",
       "    </tr>\n",
       "    <tr>\n",
       "      <th>3</th>\n",
       "      <td>1.0</td>\n",
       "      <td>8</td>\n",
       "    </tr>\n",
       "    <tr>\n",
       "      <th>4</th>\n",
       "      <td>1.0</td>\n",
       "      <td>12</td>\n",
       "    </tr>\n",
       "  </tbody>\n",
       "</table>\n",
       "</div>"
      ],
      "text/plain": [
       "   const  Population\n",
       "0    1.0           2\n",
       "1    1.0           6\n",
       "2    1.0           8\n",
       "3    1.0           8\n",
       "4    1.0          12"
      ]
     },
     "execution_count": 32,
     "metadata": {},
     "output_type": "execute_result"
    }
   ],
   "source": [
    "X = sm.add_constant(X)  \n",
    "X.head()"
   ]
  },
  {
   "cell_type": "markdown",
   "metadata": {},
   "source": [
    "# OBSERVATION:\n",
    "Now we perform the regression of the predictor on the response, using the sm.OLS class and and its initialization OLS(y, X) method. This method takes as an input two array-like objects: X and y. \n",
    "In general, X will either be a numpy array or a pandas data frame with shape (n, p) where n is the number of data points and p is the number of predictors. \n",
    "y is either a one-dimensional numpy array or a pandas series of length n"
   ]
  },
  {
   "cell_type": "code",
   "execution_count": 33,
   "metadata": {},
   "outputs": [],
   "source": [
    "ol = sm.OLS(y, X)"
   ]
  },
  {
   "cell_type": "markdown",
   "metadata": {},
   "source": [
    "# OBSERVATION:\n",
    "We then need to fit the model by calling the OLS object's fit() method. kurtosis test if it appears"
   ]
  },
  {
   "cell_type": "code",
   "execution_count": 34,
   "metadata": {},
   "outputs": [
    {
     "data": {
      "text/plain": [
       "const         60.0\n",
       "Population     5.0\n",
       "dtype: float64"
      ]
     },
     "execution_count": 34,
     "metadata": {},
     "output_type": "execute_result"
    }
   ],
   "source": [
    "ol = ol.fit()\n",
    "ol.params"
   ]
  },
  {
   "cell_type": "markdown",
   "metadata": {},
   "source": [
    "# STATS SUMMARY"
   ]
  },
  {
   "cell_type": "code",
   "execution_count": 35,
   "metadata": {},
   "outputs": [
    {
     "name": "stderr",
     "output_type": "stream",
     "text": [
      "C:\\Users\\Megha Singhal\\Anaconda3\\lib\\site-packages\\scipy\\stats\\stats.py:1416: UserWarning: kurtosistest only valid for n>=20 ... continuing anyway, n=10\n",
      "  \"anyway, n=%i\" % int(n))\n"
     ]
    },
    {
     "data": {
      "text/html": [
       "<table class=\"simpletable\">\n",
       "<caption>OLS Regression Results</caption>\n",
       "<tr>\n",
       "  <th>Dep. Variable:</th>          <td>Sales</td>      <th>  R-squared:         </th> <td>   0.903</td>\n",
       "</tr>\n",
       "<tr>\n",
       "  <th>Model:</th>                   <td>OLS</td>       <th>  Adj. R-squared:    </th> <td>   0.891</td>\n",
       "</tr>\n",
       "<tr>\n",
       "  <th>Method:</th>             <td>Least Squares</td>  <th>  F-statistic:       </th> <td>   74.25</td>\n",
       "</tr>\n",
       "<tr>\n",
       "  <th>Date:</th>             <td>Mon, 11 Nov 2019</td> <th>  Prob (F-statistic):</th> <td>2.55e-05</td>\n",
       "</tr>\n",
       "<tr>\n",
       "  <th>Time:</th>                 <td>12:17:11</td>     <th>  Log-Likelihood:    </th> <td> -39.342</td>\n",
       "</tr>\n",
       "<tr>\n",
       "  <th>No. Observations:</th>      <td>    10</td>      <th>  AIC:               </th> <td>   82.68</td>\n",
       "</tr>\n",
       "<tr>\n",
       "  <th>Df Residuals:</th>          <td>     8</td>      <th>  BIC:               </th> <td>   83.29</td>\n",
       "</tr>\n",
       "<tr>\n",
       "  <th>Df Model:</th>              <td>     1</td>      <th>                     </th>     <td> </td>   \n",
       "</tr>\n",
       "<tr>\n",
       "  <th>Covariance Type:</th>      <td>nonrobust</td>    <th>                     </th>     <td> </td>   \n",
       "</tr>\n",
       "</table>\n",
       "<table class=\"simpletable\">\n",
       "<tr>\n",
       "       <td></td>         <th>coef</th>     <th>std err</th>      <th>t</th>      <th>P>|t|</th>  <th>[0.025</th>    <th>0.975]</th>  \n",
       "</tr>\n",
       "<tr>\n",
       "  <th>Intercept</th>  <td>   60.0000</td> <td>    9.226</td> <td>    6.503</td> <td> 0.000</td> <td>   38.725</td> <td>   81.275</td>\n",
       "</tr>\n",
       "<tr>\n",
       "  <th>Population</th> <td>    5.0000</td> <td>    0.580</td> <td>    8.617</td> <td> 0.000</td> <td>    3.662</td> <td>    6.338</td>\n",
       "</tr>\n",
       "</table>\n",
       "<table class=\"simpletable\">\n",
       "<tr>\n",
       "  <th>Omnibus:</th>       <td> 0.928</td> <th>  Durbin-Watson:     </th> <td>   3.224</td>\n",
       "</tr>\n",
       "<tr>\n",
       "  <th>Prob(Omnibus):</th> <td> 0.629</td> <th>  Jarque-Bera (JB):  </th> <td>   0.616</td>\n",
       "</tr>\n",
       "<tr>\n",
       "  <th>Skew:</th>          <td>-0.060</td> <th>  Prob(JB):          </th> <td>   0.735</td>\n",
       "</tr>\n",
       "<tr>\n",
       "  <th>Kurtosis:</th>      <td> 1.790</td> <th>  Cond. No.          </th> <td>    33.6</td>\n",
       "</tr>\n",
       "</table><br/><br/>Warnings:<br/>[1] Standard Errors assume that the covariance matrix of the errors is correctly specified."
      ],
      "text/plain": [
       "<class 'statsmodels.iolib.summary.Summary'>\n",
       "\"\"\"\n",
       "                            OLS Regression Results                            \n",
       "==============================================================================\n",
       "Dep. Variable:                  Sales   R-squared:                       0.903\n",
       "Model:                            OLS   Adj. R-squared:                  0.891\n",
       "Method:                 Least Squares   F-statistic:                     74.25\n",
       "Date:                Mon, 11 Nov 2019   Prob (F-statistic):           2.55e-05\n",
       "Time:                        12:17:11   Log-Likelihood:                -39.342\n",
       "No. Observations:                  10   AIC:                             82.68\n",
       "Df Residuals:                       8   BIC:                             83.29\n",
       "Df Model:                           1                                         \n",
       "Covariance Type:            nonrobust                                         \n",
       "==============================================================================\n",
       "                 coef    std err          t      P>|t|      [0.025      0.975]\n",
       "------------------------------------------------------------------------------\n",
       "Intercept     60.0000      9.226      6.503      0.000      38.725      81.275\n",
       "Population     5.0000      0.580      8.617      0.000       3.662       6.338\n",
       "==============================================================================\n",
       "Omnibus:                        0.928   Durbin-Watson:                   3.224\n",
       "Prob(Omnibus):                  0.629   Jarque-Bera (JB):                0.616\n",
       "Skew:                          -0.060   Prob(JB):                        0.735\n",
       "Kurtosis:                       1.790   Cond. No.                         33.6\n",
       "==============================================================================\n",
       "\n",
       "Warnings:\n",
       "[1] Standard Errors assume that the covariance matrix of the errors is correctly specified.\n",
       "\"\"\""
      ]
     },
     "execution_count": 35,
     "metadata": {},
     "output_type": "execute_result"
    }
   ],
   "source": [
    "# import formula api as alias smf\n",
    "import statsmodels.formula.api as smf\n",
    "\n",
    "# formula: response ~ predictors\n",
    "ols = smf.ols(formula='Sales ~ Population', data=df).fit()\n",
    "ols.summary()"
   ]
  },
  {
   "cell_type": "markdown",
   "metadata": {},
   "source": [
    "# The difference b/w R2 and Adjusted r2 is very less which is a good model."
   ]
  },
  {
   "cell_type": "code",
   "execution_count": 36,
   "metadata": {},
   "outputs": [
    {
     "data": {
      "text/plain": [
       "<seaborn.axisgrid.JointGrid at 0x1d5579cb3c8>"
      ]
     },
     "execution_count": 36,
     "metadata": {},
     "output_type": "execute_result"
    },
    {
     "data": {
      "image/png": "[encoded data removed]",
      "text/plain": [
       "<Figure size 432x432 with 3 Axes>"
      ]
     },
     "metadata": {
      "needs_background": "light"
     },
     "output_type": "display_data"
    }
   ],
   "source": [
    "sns.jointplot(df.Population,df.Sales)"
   ]
  },
  {
   "cell_type": "code",
   "execution_count": 37,
   "metadata": {},
   "outputs": [],
   "source": [
    "X=df['Population']\n",
    "y=df[\"Sales\"]\n",
    "from sklearn.model_selection import train_test_split\n",
    "X_train, X_test, y_train, y_test = train_test_split(X, y, train_size=0.7 , random_state=5)\n"
   ]
  },
  {
   "cell_type": "code",
   "execution_count": 38,
   "metadata": {},
   "outputs": [
    {
     "name": "stdout",
     "output_type": "stream",
     "text": [
      "<class 'pandas.core.series.Series'>\n",
      "<class 'pandas.core.series.Series'>\n",
      "<class 'pandas.core.series.Series'>\n",
      "<class 'pandas.core.series.Series'>\n"
     ]
    }
   ],
   "source": [
    "print(type(X_train))\n",
    "print(type(X_test))\n",
    "print(type(y_train))\n",
    "print(type(y_test))"
   ]
  },
  {
   "cell_type": "code",
   "execution_count": 39,
   "metadata": {},
   "outputs": [
    {
     "name": "stdout",
     "output_type": "stream",
     "text": [
      "(7,)\n",
      "(7,)\n",
      "(3,)\n",
      "(3,)\n"
     ]
    }
   ],
   "source": [
    "print(X_train.shape)\n",
    "print(y_train.shape)\n",
    "print(X_test.shape)\n",
    "print(y_test.shape)"
   ]
  },
  {
   "cell_type": "code",
   "execution_count": 40,
   "metadata": {},
   "outputs": [],
   "source": [
    "import numpy as np\n",
    "\n",
    "X_train = X_train[:, np.newaxis]\n",
    "X_test = X_test[:, np.newaxis]"
   ]
  },
  {
   "cell_type": "code",
   "execution_count": 41,
   "metadata": {},
   "outputs": [
    {
     "name": "stdout",
     "output_type": "stream",
     "text": [
      "(7, 1)\n",
      "(7,)\n",
      "(3, 1)\n",
      "(3,)\n"
     ]
    }
   ],
   "source": [
    "print(X_train.shape)\n",
    "print(y_train.shape)\n",
    "print(X_test.shape)\n",
    "print(y_test.shape)"
   ]
  },
  {
   "cell_type": "code",
   "execution_count": 42,
   "metadata": {},
   "outputs": [
    {
     "data": {
      "text/plain": [
       "LinearRegression(copy_X=True, fit_intercept=True, n_jobs=None, normalize=False)"
      ]
     },
     "execution_count": 42,
     "metadata": {},
     "output_type": "execute_result"
    }
   ],
   "source": [
    "# import LinearRegression from sklearn\n",
    "from sklearn.linear_model import LinearRegression\n",
    "\n",
    "# Representing LinearRegression as lr(Creating LinearRegression Object)\n",
    "lr = LinearRegression()\n",
    "\n",
    "# Fit the model using lr.fit()\n",
    "lr.fit(X_train, y_train)"
   ]
  },
  {
   "cell_type": "code",
   "execution_count": 43,
   "metadata": {},
   "outputs": [
    {
     "name": "stdout",
     "output_type": "stream",
     "text": [
      "67.51371951219511\n",
      "[4.44893293]\n"
     ]
    }
   ],
   "source": [
    "# Print the intercept and coefficients\n",
    "print(lr.intercept_)\n",
    "print(lr.coef_)"
   ]
  },
  {
   "cell_type": "code",
   "execution_count": 44,
   "metadata": {},
   "outputs": [
    {
     "data": {
      "text/plain": [
       "numpy.ndarray"
      ]
     },
     "execution_count": 44,
     "metadata": {},
     "output_type": "execute_result"
    }
   ],
   "source": [
    "# Making predictions on the testing set\n",
    "y_pred = lr.predict(X_test)\n",
    "type(y_pred)"
   ]
  },
  {
   "cell_type": "code",
   "execution_count": 45,
   "metadata": {},
   "outputs": [
    {
     "data": {
      "text/plain": [
       "Text(0, 0.5, 'Sales')"
      ]
     },
     "execution_count": 45,
     "metadata": {},
     "output_type": "execute_result"
    },
    {
     "data": {
      "image/png": "[encoded data removed]",
      "text/plain": [
       "<Figure size 864x648 with 1 Axes>"
      ]
     },
     "metadata": {
      "needs_background": "light"
     },
     "output_type": "display_data"
    }
   ],
   "source": [
    "# Actual vs Predicted\n",
    "import matplotlib.pyplot as plt\n",
    "c = [i for i in range(1,4,1)]         # generating index \n",
    "fig = plt.figure()\n",
    "plt.plot(c,y_test, color=\"blue\", linewidth=2.5, linestyle=\"-\")\n",
    "plt.plot(c,y_pred, color=\"red\",  linewidth=2.5, linestyle=\"-\")\n",
    "fig.suptitle('Actual and Predicted', fontsize=20)              # Plot heading \n",
    "plt.xlabel('Index', fontsize=18)                               # X-label\n",
    "plt.ylabel('Sales', fontsize=16) "
   ]
  },
  {
   "cell_type": "code",
   "execution_count": 46,
   "metadata": {},
   "outputs": [
    {
     "data": {
      "text/plain": [
       "Text(0, 0.5, 'ytest-ypred')"
      ]
     },
     "execution_count": 46,
     "metadata": {},
     "output_type": "execute_result"
    },
    {
     "data": {
      "image/png": "[encoded data removed]",
      "text/plain": [
       "<Figure size 864x648 with 1 Axes>"
      ]
     },
     "metadata": {
      "needs_background": "light"
     },
     "output_type": "display_data"
    }
   ],
   "source": [
    "# Error terms\n",
    "c = [i for i in range(1,4,1)]\n",
    "fig = plt.figure()\n",
    "plt.plot(c,y_test-y_pred, color=\"blue\", linewidth=2.5, linestyle=\"-\")\n",
    "fig.suptitle('Error Terms', fontsize=20)              # Plot heading \n",
    "plt.xlabel('Index', fontsize=18)                      # X-label\n",
    "plt.ylabel('ytest-ypred', fontsize=16)  "
   ]
  },
  {
   "cell_type": "code",
   "execution_count": 47,
   "metadata": {},
   "outputs": [],
   "source": [
    "from sklearn.metrics import mean_squared_error, r2_score\n",
    "mse = mean_squared_error(y_test, y_pred)"
   ]
  },
  {
   "cell_type": "code",
   "execution_count": 48,
   "metadata": {},
   "outputs": [],
   "source": [
    "r_squared = r2_score(y_test, y_pred)"
   ]
  },
  {
   "cell_type": "code",
   "execution_count": 49,
   "metadata": {},
   "outputs": [
    {
     "name": "stdout",
     "output_type": "stream",
     "text": [
      "r_square_value : 0.9105576382910507\n"
     ]
    }
   ],
   "source": [
    "\n",
    "print('r_square_value :',r_squared)"
   ]
  },
  {
   "cell_type": "markdown",
   "metadata": {},
   "source": [
    "# Q8)."
   ]
  },
  {
   "cell_type": "raw",
   "metadata": {},
   "source": [
    "Q8). The data set consists of complete educational details of students right from their schooling to MBA and previous work experience. Salary is the target variable in the data. Perform the following tasks on the data:\n",
    "i. List out the features (numerical and categorical) and specify what type of tests can be performed for these features and why? (3 Marks)\n",
    "ii. Frame Null and Alternate Hypothesis for the tests mentioned in question.no.1(3 marks)\n",
    "iii. Now perform required any four statistical tests on the data to determine what are the significant features in the data with respect to target variable (95% C.I). (6 Marks)\n",
    "iv. Interpret the above test results. (3 Marks)"
   ]
  },
  {
   "cell_type": "code",
   "execution_count": 54,
   "metadata": {},
   "outputs": [],
   "source": [
    "import pandas as pd\n",
    "df=pd.read_excel(\"Admission.xlsx\")"
   ]
  },
  {
   "cell_type": "code",
   "execution_count": 55,
   "metadata": {},
   "outputs": [
    {
     "data": {
      "text/html": [
       "<div>\n",
       "<style scoped>\n",
       "    .dataframe tbody tr th:only-of-type {\n",
       "        vertical-align: middle;\n",
       "    }\n",
       "\n",
       "    .dataframe tbody tr th {\n",
       "        vertical-align: top;\n",
       "    }\n",
       "\n",
       "    .dataframe thead th {\n",
       "        text-align: right;\n",
       "    }\n",
       "</style>\n",
       "<table border=\"1\" class=\"dataframe\">\n",
       "  <thead>\n",
       "    <tr style=\"text-align: right;\">\n",
       "      <th></th>\n",
       "      <th>SlNo</th>\n",
       "      <th>Gender</th>\n",
       "      <th>Percent_SSC</th>\n",
       "      <th>Board_SSC</th>\n",
       "      <th>Percent_HSC</th>\n",
       "      <th>Board_HSC</th>\n",
       "      <th>Stream_HSC</th>\n",
       "      <th>Percent_Degree</th>\n",
       "      <th>Course_Degree</th>\n",
       "      <th>Experience_Yrs</th>\n",
       "      <th>Entrance_Test</th>\n",
       "      <th>Percentile_ET</th>\n",
       "      <th>Percent_MBA</th>\n",
       "      <th>Specialization_MBA</th>\n",
       "      <th>Marks_Communication</th>\n",
       "      <th>Marks_Projectwork</th>\n",
       "      <th>Marks_BOCA</th>\n",
       "      <th>Placement</th>\n",
       "      <th>Salary</th>\n",
       "    </tr>\n",
       "  </thead>\n",
       "  <tbody>\n",
       "    <tr>\n",
       "      <th>0</th>\n",
       "      <td>1</td>\n",
       "      <td>M</td>\n",
       "      <td>62.00</td>\n",
       "      <td>Others</td>\n",
       "      <td>88.00</td>\n",
       "      <td>Others</td>\n",
       "      <td>Commerce</td>\n",
       "      <td>52.00</td>\n",
       "      <td>Science</td>\n",
       "      <td>0</td>\n",
       "      <td>MAT</td>\n",
       "      <td>55.0</td>\n",
       "      <td>58.80</td>\n",
       "      <td>Marketing &amp; HR</td>\n",
       "      <td>50</td>\n",
       "      <td>65</td>\n",
       "      <td>74</td>\n",
       "      <td>Placed</td>\n",
       "      <td>270000</td>\n",
       "    </tr>\n",
       "    <tr>\n",
       "      <th>1</th>\n",
       "      <td>2</td>\n",
       "      <td>M</td>\n",
       "      <td>76.33</td>\n",
       "      <td>ICSE</td>\n",
       "      <td>75.33</td>\n",
       "      <td>Others</td>\n",
       "      <td>Science</td>\n",
       "      <td>75.48</td>\n",
       "      <td>Computer Applications</td>\n",
       "      <td>1</td>\n",
       "      <td>MAT</td>\n",
       "      <td>86.5</td>\n",
       "      <td>66.28</td>\n",
       "      <td>Marketing &amp; Finance</td>\n",
       "      <td>69</td>\n",
       "      <td>70</td>\n",
       "      <td>75</td>\n",
       "      <td>Placed</td>\n",
       "      <td>200000</td>\n",
       "    </tr>\n",
       "    <tr>\n",
       "      <th>2</th>\n",
       "      <td>3</td>\n",
       "      <td>M</td>\n",
       "      <td>72.00</td>\n",
       "      <td>Others</td>\n",
       "      <td>78.00</td>\n",
       "      <td>Others</td>\n",
       "      <td>Commerce</td>\n",
       "      <td>66.63</td>\n",
       "      <td>Engineering</td>\n",
       "      <td>0</td>\n",
       "      <td>NaN</td>\n",
       "      <td>0.0</td>\n",
       "      <td>52.91</td>\n",
       "      <td>Marketing &amp; Finance</td>\n",
       "      <td>50</td>\n",
       "      <td>61</td>\n",
       "      <td>59</td>\n",
       "      <td>Placed</td>\n",
       "      <td>240000</td>\n",
       "    </tr>\n",
       "    <tr>\n",
       "      <th>3</th>\n",
       "      <td>4</td>\n",
       "      <td>M</td>\n",
       "      <td>60.00</td>\n",
       "      <td>CBSE</td>\n",
       "      <td>63.00</td>\n",
       "      <td>CBSE</td>\n",
       "      <td>Arts</td>\n",
       "      <td>58.00</td>\n",
       "      <td>Management</td>\n",
       "      <td>0</td>\n",
       "      <td>MAT</td>\n",
       "      <td>75.0</td>\n",
       "      <td>57.80</td>\n",
       "      <td>Marketing &amp; Finance</td>\n",
       "      <td>54</td>\n",
       "      <td>66</td>\n",
       "      <td>62</td>\n",
       "      <td>Placed</td>\n",
       "      <td>250000</td>\n",
       "    </tr>\n",
       "    <tr>\n",
       "      <th>4</th>\n",
       "      <td>5</td>\n",
       "      <td>M</td>\n",
       "      <td>61.00</td>\n",
       "      <td>CBSE</td>\n",
       "      <td>55.00</td>\n",
       "      <td>ISC</td>\n",
       "      <td>Science</td>\n",
       "      <td>54.00</td>\n",
       "      <td>Engineering</td>\n",
       "      <td>1</td>\n",
       "      <td>MAT</td>\n",
       "      <td>66.0</td>\n",
       "      <td>59.43</td>\n",
       "      <td>Marketing &amp; HR</td>\n",
       "      <td>52</td>\n",
       "      <td>65</td>\n",
       "      <td>67</td>\n",
       "      <td>Placed</td>\n",
       "      <td>180000</td>\n",
       "    </tr>\n",
       "  </tbody>\n",
       "</table>\n",
       "</div>"
      ],
      "text/plain": [
       "   SlNo Gender  Percent_SSC Board_SSC  Percent_HSC Board_HSC Stream_HSC  \\\n",
       "0     1      M        62.00    Others        88.00    Others   Commerce   \n",
       "1     2      M        76.33      ICSE        75.33    Others    Science   \n",
       "2     3      M        72.00    Others        78.00    Others   Commerce   \n",
       "3     4      M        60.00      CBSE        63.00      CBSE       Arts   \n",
       "4     5      M        61.00      CBSE        55.00       ISC    Science   \n",
       "\n",
       "   Percent_Degree          Course_Degree  Experience_Yrs Entrance_Test  \\\n",
       "0           52.00                Science               0           MAT   \n",
       "1           75.48  Computer Applications               1           MAT   \n",
       "2           66.63            Engineering               0           NaN   \n",
       "3           58.00             Management               0           MAT   \n",
       "4           54.00            Engineering               1           MAT   \n",
       "\n",
       "   Percentile_ET  Percent_MBA   Specialization_MBA  Marks_Communication  \\\n",
       "0           55.0        58.80       Marketing & HR                   50   \n",
       "1           86.5        66.28  Marketing & Finance                   69   \n",
       "2            0.0        52.91  Marketing & Finance                   50   \n",
       "3           75.0        57.80  Marketing & Finance                   54   \n",
       "4           66.0        59.43       Marketing & HR                   52   \n",
       "\n",
       "   Marks_Projectwork  Marks_BOCA Placement  Salary  \n",
       "0                 65          74    Placed  270000  \n",
       "1                 70          75    Placed  200000  \n",
       "2                 61          59    Placed  240000  \n",
       "3                 66          62    Placed  250000  \n",
       "4                 65          67    Placed  180000  "
      ]
     },
     "execution_count": 55,
     "metadata": {},
     "output_type": "execute_result"
    }
   ],
   "source": [
    "df.head()"
   ]
  },
  {
   "cell_type": "markdown",
   "metadata": {},
   "source": [
    "# i. List out the features (numerical and categorical) and specify what type of tests can be performed for these features and why? (3 Marks)"
   ]
  },
  {
   "cell_type": "code",
   "execution_count": 57,
   "metadata": {},
   "outputs": [],
   "source": [
    "numeric_var_names=[key for key in dict(df.dtypes) if dict(df.dtypes)[key] in ['float64', 'int64', 'float32', 'int32']]\n",
    "cat_var_names=[key for key in dict(df.dtypes) if dict(df.dtypes)[key] in ['object']]\n"
   ]
  },
  {
   "cell_type": "code",
   "execution_count": 58,
   "metadata": {},
   "outputs": [
    {
     "data": {
      "text/plain": [
       "['SlNo',\n",
       " 'Percent_SSC',\n",
       " 'Percent_HSC',\n",
       " 'Percent_Degree',\n",
       " 'Experience_Yrs',\n",
       " 'Percentile_ET',\n",
       " 'Percent_MBA',\n",
       " 'Marks_Communication',\n",
       " 'Marks_Projectwork',\n",
       " 'Marks_BOCA',\n",
       " 'Salary']"
      ]
     },
     "execution_count": 58,
     "metadata": {},
     "output_type": "execute_result"
    }
   ],
   "source": [
    "numeric_var_names"
   ]
  },
  {
   "cell_type": "code",
   "execution_count": 59,
   "metadata": {},
   "outputs": [
    {
     "data": {
      "text/plain": [
       "['Gender',\n",
       " 'Board_SSC',\n",
       " 'Board_HSC',\n",
       " 'Stream_HSC',\n",
       " 'Course_Degree',\n",
       " 'Entrance_Test',\n",
       " 'Specialization_MBA',\n",
       " 'Placement']"
      ]
     },
     "execution_count": 59,
     "metadata": {},
     "output_type": "execute_result"
    }
   ],
   "source": [
    "cat_var_names"
   ]
  },
  {
   "cell_type": "markdown",
   "metadata": {},
   "source": [
    "# Correlational: these tests look for an association between variables."
   ]
  },
  {
   "cell_type": "markdown",
   "metadata": {},
   "source": [
    "# Chi-Square\n",
    "\n",
    "Tests for the strength of the association between two categorical variables"
   ]
  },
  {
   "cell_type": "markdown",
   "metadata": {},
   "source": [
    "# Spearman Correlation\n",
    "\n",
    "Tests for the strength of the association between two ordinal variables (does not rely on the assumption of normally distributed data)"
   ]
  },
  {
   "cell_type": "markdown",
   "metadata": {},
   "source": [
    "# Pearson Correlation\n",
    "\n",
    "Tests for the strength of the association between two continuous variables"
   ]
  },
  {
   "cell_type": "markdown",
   "metadata": {},
   "source": [
    "# Comparison of Means: these tests look for the difference between the means of variables"
   ]
  },
  {
   "cell_type": "markdown",
   "metadata": {},
   "source": [
    "# Paired T-Test\n",
    "\n",
    "Tests for the difference between two variables from the same population (e.g., a pre- and posttest score)"
   ]
  },
  {
   "cell_type": "markdown",
   "metadata": {},
   "source": [
    "# Independent T-Test\n",
    "\n",
    "Tests for the difference between the same variable from different populations (e.g., comparing boys to girls)"
   ]
  },
  {
   "cell_type": "markdown",
   "metadata": {},
   "source": [
    "# ANOVA\n",
    "\n",
    "Tests for the difference between group means after any other variance in the outcome variable is accounted for (e.g., controlling for sex, income, or age)"
   ]
  },
  {
   "cell_type": "markdown",
   "metadata": {},
   "source": [
    "# Non-Parametric: these tests are used when the data does not meet the assumptions required for parametric tests"
   ]
  },
  {
   "cell_type": "markdown",
   "metadata": {},
   "source": [
    "# Wilcoxon Rank-Sum Test\n",
    "\n",
    "Tests for the difference between two independent variables; takes into account magnitude and direction of difference\n"
   ]
  },
  {
   "cell_type": "markdown",
   "metadata": {},
   "source": [
    "# Wilcoxon Sign-Rank Test\n",
    "\n",
    "Tests for the difference between two related variables; takes into account the magnitude and direction of difference\n",
    "\n"
   ]
  },
  {
   "cell_type": "markdown",
   "metadata": {},
   "source": [
    "# Sign Test\n",
    "\n",
    "Tests if two related variables are different; ignores the magnitude of change—only takes into account direction"
   ]
  },
  {
   "cell_type": "markdown",
   "metadata": {},
   "source": [
    "# ii. Frame Null and Alternate Hypothesis for the tests mentioned in question.no.1(3 marks)"
   ]
  },
  {
   "cell_type": "raw",
   "metadata": {},
   "source": [
    "1. Two sample ttest\n",
    "Ho:mean salary of male =mean slaary of female.\n",
    "Ha:mean salary of male !=mean slaary of female\n",
    "2 one sample ttest\n",
    "Ho:mean salary>=270000\n",
    "Ha:mean salary<270000\n",
    "3 two sample proportion test\n",
    "ho:proportion of experienced placed=proportion of not experienced placed\n",
    "ha:proportion of experienced placed!=proportion of not experienced placed\n",
    "4 Oneway Annova:\n",
    "ho:mean of male percent degree and salary= mean of female percent degree and salary\n",
    "ha:mean of male percent degree and salary!= mean of female percent degree and salary"
   ]
  },
  {
   "cell_type": "markdown",
   "metadata": {},
   "source": [
    "# iii. Now perform required any four statistical tests on the data to determine what are the significant features in the data with respect to target variable (95% C.I). (6 Marks)"
   ]
  },
  {
   "cell_type": "code",
   "execution_count": 61,
   "metadata": {},
   "outputs": [],
   "source": [
    "g=df.groupby('Gender')\n",
    "gm=g.get_group('M').Salary\n",
    "gf=g.get_group('F').Salary"
   ]
  },
  {
   "cell_type": "code",
   "execution_count": 62,
   "metadata": {},
   "outputs": [
    {
     "data": {
      "text/plain": [
       "(0.8992235660552979, 2.7824496179329472e-12)"
      ]
     },
     "execution_count": 62,
     "metadata": {},
     "output_type": "execute_result"
    }
   ],
   "source": [
    "from scipy.stats import ttest_1samp,ttest_ind, wilcoxon,mannwhitneyu,levene,shapiro,bartlett\n",
    "\n",
    "#check for normality\n",
    "shapiro(gm)"
   ]
  },
  {
   "cell_type": "code",
   "execution_count": 63,
   "metadata": {},
   "outputs": [
    {
     "data": {
      "text/plain": [
       "(0.8867743611335754, 2.187659298158451e-08)"
      ]
     },
     "execution_count": 63,
     "metadata": {},
     "output_type": "execute_result"
    }
   ],
   "source": [
    "shapiro(gf)"
   ]
  },
  {
   "cell_type": "markdown",
   "metadata": {},
   "source": [
    "# shapiro test: ho:data is normal ha:data is not normal since pvale is less than 0.05 so we fail to accept the null hypothesis Thus,the data is not normal"
   ]
  },
  {
   "cell_type": "code",
   "execution_count": 64,
   "metadata": {},
   "outputs": [
    {
     "data": {
      "text/plain": [
       "BartlettResult(statistic=2.5366275703564503, pvalue=0.11123213824430818)"
      ]
     },
     "execution_count": 64,
     "metadata": {},
     "output_type": "execute_result"
    }
   ],
   "source": [
    "bartlett(gm,gf)\n",
    "#we fail to reject null hypothesis\n",
    "#null hyp-var of male is equal to var of female\n",
    "# var of male=var of fem as pval is not less than 0.05 so we accept the null hypothesis thus var is same for both"
   ]
  },
  {
   "cell_type": "code",
   "execution_count": 65,
   "metadata": {},
   "outputs": [
    {
     "name": "stdout",
     "output_type": "stream",
     "text": [
      "0.0013237576978127575\n"
     ]
    }
   ],
   "source": [
    "us,p_val=mannwhitneyu(gm,gf)\n",
    "print(p_val)\n",
    "#pval <0.05 so reject the null hypo and accept the alt hypo\n",
    "#means mean is not qual for both"
   ]
  },
  {
   "cell_type": "code",
   "execution_count": 66,
   "metadata": {},
   "outputs": [],
   "source": [
    "## one sample ttest"
   ]
  },
  {
   "cell_type": "code",
   "execution_count": 67,
   "metadata": {},
   "outputs": [
    {
     "data": {
      "text/plain": [
       "241822.31232256079"
      ]
     },
     "execution_count": 67,
     "metadata": {},
     "output_type": "execute_result"
    }
   ],
   "source": [
    "samp=np.random.randn(200)\n",
    "muu=df[\"Salary\"].mean()\n",
    "sig=df[\"Salary\"].std()\n",
    "s_std1=(samp*sig)+muu\n",
    "np.mean(s_std1)"
   ]
  },
  {
   "cell_type": "code",
   "execution_count": 68,
   "metadata": {},
   "outputs": [
    {
     "data": {
      "text/plain": [
       "Ttest_1sampResult(statistic=-0.7669337183190009, pvalue=0.44402982941478597)"
      ]
     },
     "execution_count": 68,
     "metadata": {},
     "output_type": "execute_result"
    }
   ],
   "source": [
    "from scipy.stats import ttest_1samp\n",
    "ttest_1samp(s_std1,250000)"
   ]
  },
  {
   "cell_type": "code",
   "execution_count": 69,
   "metadata": {},
   "outputs": [],
   "source": [
    "#Since the pval is less than 0.05 so we reject the null hypothesis.\n",
    "#Thus Mean salary is less than 250000"
   ]
  },
  {
   "cell_type": "code",
   "execution_count": 71,
   "metadata": {},
   "outputs": [
    {
     "data": {
      "text/html": [
       "<div>\n",
       "<style scoped>\n",
       "    .dataframe tbody tr th:only-of-type {\n",
       "        vertical-align: middle;\n",
       "    }\n",
       "\n",
       "    .dataframe tbody tr th {\n",
       "        vertical-align: top;\n",
       "    }\n",
       "\n",
       "    .dataframe thead th {\n",
       "        text-align: right;\n",
       "    }\n",
       "</style>\n",
       "<table border=\"1\" class=\"dataframe\">\n",
       "  <thead>\n",
       "    <tr style=\"text-align: right;\">\n",
       "      <th>Gender</th>\n",
       "      <th>F</th>\n",
       "      <th>M</th>\n",
       "    </tr>\n",
       "    <tr>\n",
       "      <th>Placement</th>\n",
       "      <th></th>\n",
       "      <th></th>\n",
       "    </tr>\n",
       "  </thead>\n",
       "  <tbody>\n",
       "    <tr>\n",
       "      <th>Not Placed</th>\n",
       "      <td>30</td>\n",
       "      <td>49</td>\n",
       "    </tr>\n",
       "    <tr>\n",
       "      <th>Placed</th>\n",
       "      <td>97</td>\n",
       "      <td>215</td>\n",
       "    </tr>\n",
       "  </tbody>\n",
       "</table>\n",
       "</div>"
      ],
      "text/plain": [
       "Gender       F    M\n",
       "Placement          \n",
       "Not Placed  30   49\n",
       "Placed      97  215"
      ]
     },
     "execution_count": 71,
     "metadata": {},
     "output_type": "execute_result"
    }
   ],
   "source": [
    "pp=pd.crosstab(df['Placement'],df['Gender'])\n",
    "pp"
   ]
  },
  {
   "cell_type": "code",
   "execution_count": 72,
   "metadata": {},
   "outputs": [
    {
     "data": {
      "text/plain": [
       "(1.0666896896491578,\n",
       " 0.30169436538364036,\n",
       " 1,\n",
       " array([[ 25.65984655,  53.34015345],\n",
       "        [101.34015345, 210.65984655]]))"
      ]
     },
     "execution_count": 72,
     "metadata": {},
     "output_type": "execute_result"
    }
   ],
   "source": [
    "from scipy.stats import chisquare,chi2_contingency\n",
    "chi2_contingency(pp)"
   ]
  },
  {
   "cell_type": "code",
   "execution_count": 73,
   "metadata": {},
   "outputs": [],
   "source": [
    "#As the pval is greater than 0.05 so we fail to reject the null hypothesis\n",
    "#Thus the null hypothesis holds true\n",
    "#We can infer proportion of male placed is same as proportion of female placed."
   ]
  },
  {
   "cell_type": "code",
   "execution_count": 74,
   "metadata": {},
   "outputs": [],
   "source": [
    "# one way anova test"
   ]
  },
  {
   "cell_type": "code",
   "execution_count": 76,
   "metadata": {},
   "outputs": [],
   "source": [
    "import statsmodels.formula.api as smf\n",
    "modelss=smf.ols('Salary~+Gender+Board_SSC+Board_HSC+Stream_HSC+Specialization_MBA+Entrance_Test',df).fit()"
   ]
  },
  {
   "cell_type": "code",
   "execution_count": 77,
   "metadata": {},
   "outputs": [
    {
     "data": {
      "text/plain": [
       "Intercept                               230268.444917\n",
       "Gender[T.M]                              36359.744276\n",
       "Board_SSC[T.ICSE]                        -9486.259098\n",
       "Board_SSC[T.Others]                     -11963.209178\n",
       "Board_HSC[T.ISC]                         -4703.067620\n",
       "Board_HSC[T.Others]                     -22407.249106\n",
       "Stream_HSC[T.Commerce]                   33415.094741\n",
       "Stream_HSC[T.Science]                    54216.205000\n",
       "Specialization_MBA[T.Marketing & HR]    -38169.131693\n",
       "Specialization_MBA[T.Marketing & IB]    -57328.920883\n",
       "Entrance_Test[T.G-MAT]                   42496.306044\n",
       "Entrance_Test[T.G-SAT]                  -13672.825649\n",
       "Entrance_Test[T.GCET]                    15534.721721\n",
       "Entrance_Test[T.K-MAT]                   30780.676483\n",
       "Entrance_Test[T.MAT]                    -41072.628631\n",
       "Entrance_Test[T.PGCET]                  -93856.040403\n",
       "Entrance_Test[T.XAT]                     70686.918627\n",
       "dtype: float64"
      ]
     },
     "execution_count": 77,
     "metadata": {},
     "output_type": "execute_result"
    }
   ],
   "source": [
    "modelss.params"
   ]
  },
  {
   "cell_type": "code",
   "execution_count": 78,
   "metadata": {},
   "outputs": [
    {
     "data": {
      "text/html": [
       "<table class=\"simpletable\">\n",
       "<caption>OLS Regression Results</caption>\n",
       "<tr>\n",
       "  <th>Dep. Variable:</th>         <td>Salary</td>      <th>  R-squared:         </th> <td>   0.081</td>\n",
       "</tr>\n",
       "<tr>\n",
       "  <th>Model:</th>                   <td>OLS</td>       <th>  Adj. R-squared:    </th> <td>   0.033</td>\n",
       "</tr>\n",
       "<tr>\n",
       "  <th>Method:</th>             <td>Least Squares</td>  <th>  F-statistic:       </th> <td>   1.686</td>\n",
       "</tr>\n",
       "<tr>\n",
       "  <th>Date:</th>             <td>Mon, 11 Nov 2019</td> <th>  Prob (F-statistic):</th>  <td>0.0481</td> \n",
       "</tr>\n",
       "<tr>\n",
       "  <th>Time:</th>                 <td>12:53:43</td>     <th>  Log-Likelihood:    </th> <td> -4282.2</td>\n",
       "</tr>\n",
       "<tr>\n",
       "  <th>No. Observations:</th>      <td>   324</td>      <th>  AIC:               </th> <td>   8598.</td>\n",
       "</tr>\n",
       "<tr>\n",
       "  <th>Df Residuals:</th>          <td>   307</td>      <th>  BIC:               </th> <td>   8663.</td>\n",
       "</tr>\n",
       "<tr>\n",
       "  <th>Df Model:</th>              <td>    16</td>      <th>                     </th>     <td> </td>   \n",
       "</tr>\n",
       "<tr>\n",
       "  <th>Covariance Type:</th>      <td>nonrobust</td>    <th>                     </th>     <td> </td>   \n",
       "</tr>\n",
       "</table>\n",
       "<table class=\"simpletable\">\n",
       "<tr>\n",
       "                    <td></td>                      <th>coef</th>     <th>std err</th>      <th>t</th>      <th>P>|t|</th>  <th>[0.025</th>    <th>0.975]</th>  \n",
       "</tr>\n",
       "<tr>\n",
       "  <th>Intercept</th>                            <td> 2.303e+05</td> <td> 4.96e+04</td> <td>    4.645</td> <td> 0.000</td> <td> 1.33e+05</td> <td> 3.28e+05</td>\n",
       "</tr>\n",
       "<tr>\n",
       "  <th>Gender[T.M]</th>                          <td> 3.636e+04</td> <td> 1.67e+04</td> <td>    2.181</td> <td> 0.030</td> <td> 3561.815</td> <td> 6.92e+04</td>\n",
       "</tr>\n",
       "<tr>\n",
       "  <th>Board_SSC[T.ICSE]</th>                    <td>-9486.2591</td> <td> 2.88e+04</td> <td>   -0.330</td> <td> 0.742</td> <td>-6.61e+04</td> <td> 4.71e+04</td>\n",
       "</tr>\n",
       "<tr>\n",
       "  <th>Board_SSC[T.Others]</th>                  <td>-1.196e+04</td> <td> 2.44e+04</td> <td>   -0.491</td> <td> 0.624</td> <td>-5.99e+04</td> <td>  3.6e+04</td>\n",
       "</tr>\n",
       "<tr>\n",
       "  <th>Board_HSC[T.ISC]</th>                     <td>-4703.0676</td> <td> 3.48e+04</td> <td>   -0.135</td> <td> 0.893</td> <td>-7.33e+04</td> <td> 6.39e+04</td>\n",
       "</tr>\n",
       "<tr>\n",
       "  <th>Board_HSC[T.Others]</th>                  <td>-2.241e+04</td> <td> 2.49e+04</td> <td>   -0.902</td> <td> 0.368</td> <td>-7.13e+04</td> <td> 2.65e+04</td>\n",
       "</tr>\n",
       "<tr>\n",
       "  <th>Stream_HSC[T.Commerce]</th>               <td> 3.342e+04</td> <td> 3.67e+04</td> <td>    0.910</td> <td> 0.364</td> <td>-3.89e+04</td> <td> 1.06e+05</td>\n",
       "</tr>\n",
       "<tr>\n",
       "  <th>Stream_HSC[T.Science]</th>                <td> 5.422e+04</td> <td> 3.79e+04</td> <td>    1.432</td> <td> 0.153</td> <td>-2.03e+04</td> <td> 1.29e+05</td>\n",
       "</tr>\n",
       "<tr>\n",
       "  <th>Specialization_MBA[T.Marketing & HR]</th> <td>-3.817e+04</td> <td> 1.63e+04</td> <td>   -2.344</td> <td> 0.020</td> <td>-7.02e+04</td> <td>-6120.837</td>\n",
       "</tr>\n",
       "<tr>\n",
       "  <th>Specialization_MBA[T.Marketing & IB]</th> <td>-5.733e+04</td> <td> 4.22e+04</td> <td>   -1.360</td> <td> 0.175</td> <td> -1.4e+05</td> <td> 2.56e+04</td>\n",
       "</tr>\n",
       "<tr>\n",
       "  <th>Entrance_Test[T.G-MAT]</th>               <td>  4.25e+04</td> <td> 1.41e+05</td> <td>    0.302</td> <td> 0.763</td> <td>-2.34e+05</td> <td> 3.19e+05</td>\n",
       "</tr>\n",
       "<tr>\n",
       "  <th>Entrance_Test[T.G-SAT]</th>               <td>-1.367e+04</td> <td>  1.4e+05</td> <td>   -0.098</td> <td> 0.922</td> <td> -2.9e+05</td> <td> 2.62e+05</td>\n",
       "</tr>\n",
       "<tr>\n",
       "  <th>Entrance_Test[T.GCET]</th>                <td> 1.553e+04</td> <td> 1.03e+05</td> <td>    0.151</td> <td> 0.880</td> <td>-1.87e+05</td> <td> 2.19e+05</td>\n",
       "</tr>\n",
       "<tr>\n",
       "  <th>Entrance_Test[T.K-MAT]</th>               <td> 3.078e+04</td> <td> 4.08e+04</td> <td>    0.755</td> <td> 0.451</td> <td>-4.94e+04</td> <td> 1.11e+05</td>\n",
       "</tr>\n",
       "<tr>\n",
       "  <th>Entrance_Test[T.MAT]</th>                 <td>-4.107e+04</td> <td> 3.06e+04</td> <td>   -1.343</td> <td> 0.180</td> <td>-1.01e+05</td> <td> 1.91e+04</td>\n",
       "</tr>\n",
       "<tr>\n",
       "  <th>Entrance_Test[T.PGCET]</th>               <td>-9.386e+04</td> <td> 5.74e+04</td> <td>   -1.636</td> <td> 0.103</td> <td>-2.07e+05</td> <td> 1.91e+04</td>\n",
       "</tr>\n",
       "<tr>\n",
       "  <th>Entrance_Test[T.XAT]</th>                 <td> 7.069e+04</td> <td> 1.41e+05</td> <td>    0.502</td> <td> 0.616</td> <td>-2.06e+05</td> <td> 3.48e+05</td>\n",
       "</tr>\n",
       "</table>\n",
       "<table class=\"simpletable\">\n",
       "<tr>\n",
       "  <th>Omnibus:</th>       <td>22.452</td> <th>  Durbin-Watson:     </th> <td>   2.040</td>\n",
       "</tr>\n",
       "<tr>\n",
       "  <th>Prob(Omnibus):</th> <td> 0.000</td> <th>  Jarque-Bera (JB):  </th> <td>  63.876</td>\n",
       "</tr>\n",
       "<tr>\n",
       "  <th>Skew:</th>          <td> 0.220</td> <th>  Prob(JB):          </th> <td>1.35e-14</td>\n",
       "</tr>\n",
       "<tr>\n",
       "  <th>Kurtosis:</th>      <td> 5.130</td> <th>  Cond. No.          </th> <td>    37.5</td>\n",
       "</tr>\n",
       "</table><br/><br/>Warnings:<br/>[1] Standard Errors assume that the covariance matrix of the errors is correctly specified."
      ],
      "text/plain": [
       "<class 'statsmodels.iolib.summary.Summary'>\n",
       "\"\"\"\n",
       "                            OLS Regression Results                            \n",
       "==============================================================================\n",
       "Dep. Variable:                 Salary   R-squared:                       0.081\n",
       "Model:                            OLS   Adj. R-squared:                  0.033\n",
       "Method:                 Least Squares   F-statistic:                     1.686\n",
       "Date:                Mon, 11 Nov 2019   Prob (F-statistic):             0.0481\n",
       "Time:                        12:53:43   Log-Likelihood:                -4282.2\n",
       "No. Observations:                 324   AIC:                             8598.\n",
       "Df Residuals:                     307   BIC:                             8663.\n",
       "Df Model:                          16                                         \n",
       "Covariance Type:            nonrobust                                         \n",
       "========================================================================================================\n",
       "                                           coef    std err          t      P>|t|      [0.025      0.975]\n",
       "--------------------------------------------------------------------------------------------------------\n",
       "Intercept                             2.303e+05   4.96e+04      4.645      0.000    1.33e+05    3.28e+05\n",
       "Gender[T.M]                           3.636e+04   1.67e+04      2.181      0.030    3561.815    6.92e+04\n",
       "Board_SSC[T.ICSE]                    -9486.2591   2.88e+04     -0.330      0.742   -6.61e+04    4.71e+04\n",
       "Board_SSC[T.Others]                  -1.196e+04   2.44e+04     -0.491      0.624   -5.99e+04     3.6e+04\n",
       "Board_HSC[T.ISC]                     -4703.0676   3.48e+04     -0.135      0.893   -7.33e+04    6.39e+04\n",
       "Board_HSC[T.Others]                  -2.241e+04   2.49e+04     -0.902      0.368   -7.13e+04    2.65e+04\n",
       "Stream_HSC[T.Commerce]                3.342e+04   3.67e+04      0.910      0.364   -3.89e+04    1.06e+05\n",
       "Stream_HSC[T.Science]                 5.422e+04   3.79e+04      1.432      0.153   -2.03e+04    1.29e+05\n",
       "Specialization_MBA[T.Marketing & HR] -3.817e+04   1.63e+04     -2.344      0.020   -7.02e+04   -6120.837\n",
       "Specialization_MBA[T.Marketing & IB] -5.733e+04   4.22e+04     -1.360      0.175    -1.4e+05    2.56e+04\n",
       "Entrance_Test[T.G-MAT]                 4.25e+04   1.41e+05      0.302      0.763   -2.34e+05    3.19e+05\n",
       "Entrance_Test[T.G-SAT]               -1.367e+04    1.4e+05     -0.098      0.922    -2.9e+05    2.62e+05\n",
       "Entrance_Test[T.GCET]                 1.553e+04   1.03e+05      0.151      0.880   -1.87e+05    2.19e+05\n",
       "Entrance_Test[T.K-MAT]                3.078e+04   4.08e+04      0.755      0.451   -4.94e+04    1.11e+05\n",
       "Entrance_Test[T.MAT]                 -4.107e+04   3.06e+04     -1.343      0.180   -1.01e+05    1.91e+04\n",
       "Entrance_Test[T.PGCET]               -9.386e+04   5.74e+04     -1.636      0.103   -2.07e+05    1.91e+04\n",
       "Entrance_Test[T.XAT]                  7.069e+04   1.41e+05      0.502      0.616   -2.06e+05    3.48e+05\n",
       "==============================================================================\n",
       "Omnibus:                       22.452   Durbin-Watson:                   2.040\n",
       "Prob(Omnibus):                  0.000   Jarque-Bera (JB):               63.876\n",
       "Skew:                           0.220   Prob(JB):                     1.35e-14\n",
       "Kurtosis:                       5.130   Cond. No.                         37.5\n",
       "==============================================================================\n",
       "\n",
       "Warnings:\n",
       "[1] Standard Errors assume that the covariance matrix of the errors is correctly specified.\n",
       "\"\"\""
      ]
     },
     "execution_count": 78,
     "metadata": {},
     "output_type": "execute_result"
    }
   ],
   "source": [
    "modelss.summary()"
   ]
  },
  {
   "cell_type": "code",
   "execution_count": null,
   "metadata": {},
   "outputs": [],
   "source": []
  }
 ],
 "metadata": {
  "kernelspec": {
   "display_name": "Python 3",
   "language": "python",
   "name": "python3"
  },
  "language_info": {
   "codemirror_mode": {
    "name": "ipython",
    "version": 3
   },
   "file_extension": ".py",
   "mimetype": "text/x-python",
   "name": "python",
   "nbconvert_exporter": "python",
   "pygments_lexer": "ipython3",
   "version": "3.7.4"
  }
 },
 "nbformat": 4,
 "nbformat_minor": 2
}
