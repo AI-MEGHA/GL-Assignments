{
 "cells": [
  {
   "cell_type": "markdown",
   "metadata": {},
   "source": [
    "# ITP_EXAM"
   ]
  },
  {
   "cell_type": "markdown",
   "metadata": {},
   "source": [
    "# Q 1. A robot moves in a plane starting from the original point (0,0). The robot can move towards UP, DOWN, LEFT and RIGHT with a given number of steps.  (5 marks)The trace of robot movement is shown as the following:"
   ]
  },
  {
   "cell_type": "raw",
   "metadata": {},
   "source": [
    "Q 1. A robot moves in a plane starting from the original point (0,0). The robot can move towards UP, DOWN, LEFT and RIGHT with a given number of steps.                                                      (5 marks)\n",
    "  The trace of robot movement is shown as the following:\n",
    "Input-\n",
    "UP 5    \n",
    "DOWN 3\n",
    "LEFT 3\n",
    "RIGHT 2\n"
   ]
  },
  {
   "cell_type": "code",
   "execution_count": 7,
   "metadata": {},
   "outputs": [
    {
     "name": "stdout",
     "output_type": "stream",
     "text": [
      "UP 5 \n",
      "DOWN 3\n",
      "LEFT 3\n",
      "RIGHT 2\n",
      "\n",
      "2\n"
     ]
    }
   ],
   "source": [
    "import math\n",
    "pos = [0,0]\n",
    "while True:\n",
    "    s = input()\n",
    "    if not s:\n",
    "        break\n",
    "    movement = s.split(\" \")\n",
    "    direction = movement[0]\n",
    "    steps = int(movement[1])\n",
    "    if direction==\"UP\":\n",
    "        pos[0]+=steps\n",
    "    elif direction==\"DOWN\":\n",
    "        pos[0]-=steps\n",
    "    elif direction==\"LEFT\":\n",
    "        pos[1]-=steps\n",
    "    elif direction==\"RIGHT\":\n",
    "        pos[1]+=steps\n",
    "    else:\n",
    "        pass\n",
    "\n",
    "print (int(round(math.sqrt(pos[1]**2+pos[0]**2))))"
   ]
  },
  {
   "cell_type": "markdown",
   "metadata": {},
   "source": [
    "# THE OUTPUT HERE IS 2"
   ]
  },
  {
   "cell_type": "markdown",
   "metadata": {},
   "source": [
    "# Q2. Write a program that computes the net amount of a bank account based a transaction log from console input.  "
   ]
  },
  {
   "cell_type": "raw",
   "metadata": {},
   "source": [
    "\n",
    "The transaction log format is shown as following:\n",
    "D 100\n",
    "W 200\n",
    "\n",
    "D means deposit while W means withdrawal.\n",
    "Suppose the following input is supplied to the program:\n",
    "D 300\n",
    "D 300\n",
    "W 200\n",
    "D 100\n",
    "Then, the output should be:\n",
    "500\n"
   ]
  },
  {
   "cell_type": "code",
   "execution_count": 16,
   "metadata": {},
   "outputs": [
    {
     "name": "stdout",
     "output_type": "stream",
     "text": [
      "D 300\n",
      "D 300\n",
      "W 200\n",
      "D 100\n",
      "\n",
      "netAmount is : 500\n"
     ]
    }
   ],
   "source": [
    "netAmount = 0\n",
    "while True:\n",
    "    s = input()\n",
    "    if not s:\n",
    "        break\n",
    "    values = s.split(\" \")\n",
    "    operation = values[0]\n",
    "    amount = int(values[1])\n",
    "    if operation==\"D\":\n",
    "        netAmount+=amount\n",
    "    elif operation==\"W\":\n",
    "        netAmount-=amount\n",
    "    else:\n",
    "        pass\n",
    "print(\"netAmount is :\",netAmount)"
   ]
  },
  {
   "cell_type": "markdown",
   "metadata": {},
   "source": [
    "# Q3. Write a program that accepts sequence of lines as input and prints the lines after transforming all letters in the sentence into CAPITAL letters."
   ]
  },
  {
   "cell_type": "raw",
   "metadata": {},
   "source": [
    "                                                                            (5 Marks)   \n",
    "Suppose the following input is supplied to the program:  \n",
    "Hello world\n",
    "Practice makes perfect\n",
    "\n",
    "Then, the output should be:\n",
    "HELLO WORLD\n",
    "PRACTICE MAKES PERFECT\n"
   ]
  },
  {
   "cell_type": "code",
   "execution_count": 17,
   "metadata": {},
   "outputs": [
    {
     "name": "stdout",
     "output_type": "stream",
     "text": [
      "Hello world Practice makes perfect\n",
      "\n",
      "HELLO WORLD PRACTICE MAKES PERFECT\n"
     ]
    }
   ],
   "source": [
    "lines = []\n",
    "while True:\n",
    "    s = input()\n",
    "    if s:\n",
    "        lines.append(s.upper())\n",
    "    else:\n",
    "        break;\n",
    "\n",
    "for sentence in lines:\n",
    "    print (sentence)"
   ]
  },
  {
   "cell_type": "markdown",
   "metadata": {},
   "source": [
    "# Q4.  A famous hotel is maintaining their order history in dictionary in given format. Find out which food item is ordered the most .                                          (5 Marks)\n",
    "\n",
    "\n"
   ]
  },
  {
   "cell_type": "code",
   "execution_count": 24,
   "metadata": {},
   "outputs": [],
   "source": [
    "#order_id: [list of items ordered]\n",
    "order_history= {165:['Noodles','Tomato Soup','Fries'],168:['Rice Idli','Rawa Dosa','Fries'],190:['Fries','Noodles','Nan']}"
   ]
  },
  {
   "cell_type": "code",
   "execution_count": 25,
   "metadata": {},
   "outputs": [
    {
     "data": {
      "text/plain": [
       "{165: ['Noodles', 'Tomato Soup', 'Fries'],\n",
       " 168: ['Rice Idli', 'Rawa Dosa', 'Fries'],\n",
       " 190: ['Fries', 'Noodles', 'Nan']}"
      ]
     },
     "execution_count": 25,
     "metadata": {},
     "output_type": "execute_result"
    }
   ],
   "source": [
    "order_history"
   ]
  },
  {
   "cell_type": "code",
   "execution_count": 27,
   "metadata": {},
   "outputs": [
    {
     "data": {
      "text/html": [
       "<div>\n",
       "<style scoped>\n",
       "    .dataframe tbody tr th:only-of-type {\n",
       "        vertical-align: middle;\n",
       "    }\n",
       "\n",
       "    .dataframe tbody tr th {\n",
       "        vertical-align: top;\n",
       "    }\n",
       "\n",
       "    .dataframe thead th {\n",
       "        text-align: right;\n",
       "    }\n",
       "</style>\n",
       "<table border=\"1\" class=\"dataframe\">\n",
       "  <thead>\n",
       "    <tr style=\"text-align: right;\">\n",
       "      <th></th>\n",
       "      <th>165</th>\n",
       "      <th>168</th>\n",
       "      <th>190</th>\n",
       "    </tr>\n",
       "  </thead>\n",
       "  <tbody>\n",
       "    <tr>\n",
       "      <th>0</th>\n",
       "      <td>Noodles</td>\n",
       "      <td>Rice Idli</td>\n",
       "      <td>Fries</td>\n",
       "    </tr>\n",
       "    <tr>\n",
       "      <th>1</th>\n",
       "      <td>Tomato Soup</td>\n",
       "      <td>Rawa Dosa</td>\n",
       "      <td>Noodles</td>\n",
       "    </tr>\n",
       "    <tr>\n",
       "      <th>2</th>\n",
       "      <td>Fries</td>\n",
       "      <td>Fries</td>\n",
       "      <td>Nan</td>\n",
       "    </tr>\n",
       "  </tbody>\n",
       "</table>\n",
       "</div>"
      ],
      "text/plain": [
       "           165        168      190\n",
       "0      Noodles  Rice Idli    Fries\n",
       "1  Tomato Soup  Rawa Dosa  Noodles\n",
       "2        Fries      Fries      Nan"
      ]
     },
     "execution_count": 27,
     "metadata": {},
     "output_type": "execute_result"
    }
   ],
   "source": [
    "import pandas as pd\n",
    "data=pd.DataFrame(order_history)\n",
    "data"
   ]
  },
  {
   "cell_type": "code",
   "execution_count": 36,
   "metadata": {},
   "outputs": [
    {
     "name": "stdout",
     "output_type": "stream",
     "text": [
      "Noodles        1\n",
      "Fries          1\n",
      "Tomato Soup    1\n",
      "Name: 165, dtype: int64\n",
      "Fries        1\n",
      "Rice Idli    1\n",
      "Rawa Dosa    1\n",
      "Name: 168, dtype: int64\n",
      "Noodles    1\n",
      "Nan        1\n",
      "Fries      1\n",
      "Name: 190, dtype: int64\n"
     ]
    }
   ],
   "source": [
    "print(data[165].value_counts())\n",
    "print(data[168].value_counts())\n",
    "print(data[190].value_counts())"
   ]
  },
  {
   "cell_type": "code",
   "execution_count": 53,
   "metadata": {},
   "outputs": [
    {
     "name": "stdout",
     "output_type": "stream",
     "text": [
      "Total no. of ordered for Noodles:  2\n",
      "Total no. of ordered for Tomato Soup:  1\n",
      "Total no. of ordered for Fries:  3\n",
      "Total no. of ordered for Rice Idli:  1\n"
     ]
    }
   ],
   "source": [
    "order_id = [165, 168, 190]\n",
    "order_history= {165:['Noodles','Tomato Soup','Fries'],168:['Rice Idli','Rawa Dosa','Fries'],190:['Fries','Noodles']}\n",
    "\n",
    "a = order_history.get(165)\n",
    "b = order_history.get(168)\n",
    "c = order_history.get(190)\n",
    "d = a+b+c\n",
    "d\n",
    "\n",
    "print('Total no. of ordered for Noodles: ', d.count('Noodles'))\n",
    "print('Total no. of ordered for Tomato Soup: ', d.count('Tomato Soup'))\n",
    "print('Total no. of ordered for Fries: ', d.count('Fries'))\n",
    "print('Total no. of ordered for Rice Idli: ', d.count('Rice Idli'))"
   ]
  },
  {
   "cell_type": "code",
   "execution_count": 10,
   "metadata": {},
   "outputs": [
    {
     "name": "stdout",
     "output_type": "stream",
     "text": [
      "Total no. of ordered for Noodles:  2\n",
      "Total no. of ordered for Tomato Soup:  1\n",
      "Total no. of ordered for Fries:  3\n",
      "Total no. of ordered for Rice Idli:  1\n",
      "Total no. of ordered for Rawa Dosa:  1\n",
      "most ordered item with count: Fries 3\n"
     ]
    }
   ],
   "source": [
    "from functools import reduce\n",
    "order_history= {165:['Noodles','Tomato Soup','Fries'],168:['Rice Idli','Rawa Dosa','Fries'],190:['Fries','Noodles']}\n",
    "Noodles = 0\n",
    "Soup = 0\n",
    "Fries = 0\n",
    "Rice_idly = 0\n",
    "Dosa = 0\n",
    "for keys, values in order_history.items():\n",
    "   for i in values:\n",
    "       if i== 'Noodles':\n",
    "           Noodles = Noodles + 1\n",
    "       elif i == \"Tomato Soup\":\n",
    "           Soup = Soup + 1\n",
    "       elif i == \"Fries\":\n",
    "           Fries = Fries + 1\n",
    "       elif i ==\"Rice Idli\":\n",
    "           Rice_idly = Rice_idly + 1\n",
    "       elif i == \"Rawa Dosa\":\n",
    "           Dosa = Dosa + 1\n",
    "print('Total no. of ordered for Noodles: ', Noodles)\n",
    "print('Total no. of ordered for Tomato Soup: ',Soup)\n",
    "print('Total no. of ordered for Fries: ', Fries)\n",
    "print('Total no. of ordered for Rice Idli: ', Rice_idly)\n",
    "print('Total no. of ordered for Rawa Dosa: ', Dosa)\n",
    "\n",
    "most_ordered_item= {\"Noodles\":Noodles,\"Tomato Soup\":Soup,\"Fries\":Fries,\"Rice Idli\":Rice_idly,\"Rawa Dosa\":Dosa}\n",
    "maximum = max(most_ordered_item, key=most_ordered_item.get)  \n",
    "print(\"most ordered item with count:\",maximum, most_ordered_item[maximum])"
   ]
  },
  {
   "cell_type": "markdown",
   "metadata": {},
   "source": [
    "# MOST ORDERED ITEMS ARE  Fries:  3\n"
   ]
  },
  {
   "cell_type": "markdown",
   "metadata": {},
   "source": [
    "# Q5. We are given a set of n items. Each item i has a weight w(i) and a value v(i) where 0 <= i < n. We are given a maximum capacity of a bag w. The problem is to find what all items we should take such that the total weight does not exceed w and the total value is maximized.                                                           (10 Marks)\n",
    "\n"
   ]
  },
  {
   "cell_type": "raw",
   "metadata": {},
   "source": [
    "Step1 : Take following inputs from User\n",
    "Number of items (n)\n",
    "Maximum capacity of bag (w)\n",
    "Take weight and profit for all 'n' items\n",
    "\n",
    "Step 2: Maintain a Nested list (item_list) of all items [weight,profit,profit/weight]\n",
    "Step 3: Sort this list(item_list) according to ratio Profit/Weight of each item\n",
    "Step 4: Display the items weight and their profit in such way that after adding them in bag of capacity 'w' , Total weight of bag should not get exceeded by 'w'"
   ]
  },
  {
   "cell_type": "raw",
   "metadata": {},
   "source": [
    "Sample Input:\n",
    "\n",
    "Enter number of items : 3\n",
    "Enter capacity of bag : 10\n",
    "enter weights for item 1 : 3\n",
    "enter Profit for item 1 : 2\n",
    "enter weights for item 2 : 4\n",
    "enter Profit for item 2 : 10\n",
    "enter weights for item 3 : 5\n",
    "enter Profit for item 3 : 20\n",
    "Sample Output:\n",
    "\n",
    "Added Weight 5 with Profit 20 in bag\n",
    "Added Weight 4 with Profit 10 in bag\n"
   ]
  },
  {
   "cell_type": "raw",
   "metadata": {},
   "source": [
    "n=input(\"Number of items:\")\n",
    "w=input(\"Maximum capacity of bag:\")\n",
    "a=int(input(\"enter the weights of item 1:\"))\n",
    "b=int(input(\"enter the profit of item 1:\"))\n",
    "a=int(input(\"enter the weights of item 2:\"))\n",
    "b=int(input(\"enter the profit of item 2:\"))\n",
    "a=int(input(\"enter the weights of item 3:\"))\n",
    "b=int(input(\"enter the profit of item 3:\"))\n",
    "\n"
   ]
  },
  {
   "cell_type": "code",
   "execution_count": 1,
   "metadata": {},
   "outputs": [
    {
     "name": "stdout",
     "output_type": "stream",
     "text": [
      "No Of Items : 3\n",
      "Bag Size : 10\n",
      "Weight3\n",
      "Profit2\n",
      "Weight4\n",
      "Profit10\n",
      "Weight5\n",
      "Profit20\n",
      "[{'w': 3, 'p': 2, 'r': 0.6666666666666666}, {'w': 4, 'p': 10, 'r': 2.5}, {'w': 5, 'p': 20, 'r': 4.0}]\n",
      "[{'w': 3, 'p': 2, 'r': 0.6666666666666666}, {'w': 4, 'p': 10, 'r': 2.5}, {'w': 5, 'p': 20, 'r': 4.0}]\n",
      "[{'w': 3, 'p': 2, 'r': 0.6666666666666666}, {'w': 4, 'p': 10, 'r': 2.5}, {'w': 5, 'p': 20, 'r': 4.0}]\n"
     ]
    }
   ],
   "source": [
    "d = list()\n",
    "n = int(input(\"No Of Items : \"))\n",
    "b = int(input(\"Bag Size : \"))\n",
    "\n",
    "comb = list()\n",
    "\n",
    "\n",
    "for i in range(n):\n",
    "   d.append({\n",
    "       'w' : int(input(\"Weight\")),\n",
    "       'p' : int(input(\"Profit\")),\n",
    "       'r' : 0\n",
    "   })\n",
    "   \n",
    "   d[-1]['r'] = d[-1]['p'] / d[-1]['w']\n",
    "\n",
    "for i in d :\n",
    "   print(d)"
   ]
  },
  {
   "cell_type": "markdown",
   "metadata": {},
   "source": [
    "# Q 6. An Ecommerce portal has a list of items available with them in each category (inventory) in form of list within the Dictionary."
   ]
  },
  {
   "cell_type": "raw",
   "metadata": {},
   "source": [
    " \n",
    "    \n",
    "For example\n",
    "Inventory= {'Men': ['Shirt','Suit','Trouser','Jeans'], 'Women': ['Saree','Dress_suit','Handbag','Jewellery'],'Home_appliances': ['TV','Refrigerator'],'Kids':['Toys','Bags','Books']}\n",
    "\n",
    "Write a program which will take a name of an item , user wants to buy and search it in the inventory. if its found in the inventory then print a message like 'item is available'.\n",
    "otherwise ask user 'Would you like to continue buying : yes or no'. If user gives 'yes ' then repeat searching in the inventory otherwise program should stop execution. \n"
   ]
  },
  {
   "cell_type": "code",
   "execution_count": 43,
   "metadata": {},
   "outputs": [],
   "source": [
    "Inventory= {'Men': ['Shirt','Suit','Trouser','Jeans'], 'Women': ['Saree','Dress_suit','Handbag','Jewellery'],'Home_appliances': ['TV','Refrigerator'],'Kids':['Toys','Bags','Books']}"
   ]
  },
  {
   "cell_type": "code",
   "execution_count": 23,
   "metadata": {},
   "outputs": [
    {
     "name": "stdout",
     "output_type": "stream",
     "text": [
      "Item is available\n"
     ]
    }
   ],
   "source": [
    "def searchInventory(inv,sear):\n",
    "   found = False\n",
    "   for x in inv:\n",
    "       for y in inv[x]:\n",
    "           if y == sear:\n",
    "               print(\"Item is available\")\n",
    "               found = True\n",
    "   if not found:\n",
    "       st = input(\"Would you like to continue buying : yes or no\")\n",
    "       if st==\"yes\":\n",
    "           searchInventory(inv,sear)\n",
    "       else:\n",
    "           return\n",
    "inv = {'Men': ['Shirt','Suit','Trouser','Jeans'], 'Women': ['Saree','Dress_suit','Handbag','Jewellery'],'Home_appliances': ['TV','Refrigerator'],'Kids':['Toys','Bags','Books']}\n",
    "searchInventory(inv,\"Shirt\")\n",
    "     "
   ]
  },
  {
   "cell_type": "markdown",
   "metadata": {},
   "source": [
    "# 7. In a pathology lab test, there are n number of samples for testing health condition of a patient, each slide has 5 components, Sugar level, Blood pressure, Heartbeat rate, weight, fat percentage, based on input as provided by the patient's blood report.\n"
   ]
  },
  {
   "cell_type": "raw",
   "metadata": {},
   "source": [
    "\n",
    "Step 1: Create a sample input for a healthy patient and also take random samples from patient like \"Sugar level\":15, \"Blood pressure\":32, \"Heartbeat rate\":71, \"weight\":65, \"fat percentage\":10.\n",
    "\n",
    "Step 2. Compare inputs with the healthy patient data.If the patient data is not matching with the healthy patients data, provide a warning.\n",
    "Step 3. Provide difference in readings to the patient\n"
   ]
  },
  {
   "cell_type": "raw",
   "metadata": {},
   "source": [
    "**Sample Output:**\n",
    "\n",
    "    Sugar level56\n",
    "    Blood pressure120\n",
    "    Heartbeat rate45\n",
    "    weight67\n",
    "    fat percentage67\n",
    "    {'Sugar level': -41, 'Blood pressure': -88, 'Heartbeat rate': 26, 'weight': -2, 'fat percentage': -57}\n",
    "    Sugar level -41\n",
    "    Sugar level is -41 less than ideal value\n",
    "    Blood pressure -88\n",
    "    Blood pressure is -88 less than ideal value\n",
    "    Heartbeat rate 26\n",
    "    Heartbeat rate is 26 less than ideal value\n",
    "    weight -2\n",
    "    weight is -2 less than ideal value\n",
    "    fat percentage -57\n",
    "    fat percentage is -57 less than ideal value\n"
   ]
  },
  {
   "cell_type": "code",
   "execution_count": 1,
   "metadata": {},
   "outputs": [
    {
     "name": "stdout",
     "output_type": "stream",
     "text": [
      "Enter sugar level :-41\n",
      "Enter blood pressure :-88\n",
      "Enter heart rate :26\n",
      "Enter weight :-2\n",
      "Enter fat percentage :-57\n",
      "\n",
      "Details of the patient:\n",
      " {'Sugar level': -41, 'Blood pressure': -88, 'Heartbeat rate': 26, 'weight': -2, 'fat percentage': -57}\n",
      "Sugar level -41\n",
      "Sugar level is -41 less than ideal value\n",
      "Blood pressure -88\n",
      "Blood pressure is -88 less than ideal value\n",
      "Heartbeat rate 26\n",
      "Heartbeat rate is 26 less than ideal value\n",
      "weight -2\n",
      "weight is -2 less than ideal value\n",
      "fat percentage -57\n",
      "fat percentage is -57 less than ideal value\n"
     ]
    }
   ],
   "source": [
    "healthy = {\"Sugar level\":56, \"Blood pressure\":120, \"Heartbeat rate\":45, \"weight\":67, \"fat percentage\":67}\n",
    "# Step 2\n",
    "inp = {}\n",
    "s = int(input('Enter sugar level :'))\n",
    "b = int(input('Enter blood pressure :'))\n",
    "h = int(input('Enter heart rate :'))\n",
    "w = int(input('Enter weight :'))\n",
    "f = int(input('Enter fat percentage :'))\n",
    "\n",
    "inp[\"Sugar level\"] = s\n",
    "inp[\"Blood pressure\"] = b\n",
    "inp[\"Heartbeat rate\"] = h\n",
    "inp[\"weight\"] = w\n",
    "inp[\"fat percentage\"] = f\n",
    "\n",
    "print()\n",
    "print('Details of the patient:\\n',inp)\n",
    "\n",
    "print(\"Sugar level\",s)\n",
    "print(\"Sugar level is\",s,\"less than ideal value\")\n",
    "print(\"Blood pressure\",b)\n",
    "print(\"Blood pressure is\",b,\"less than ideal value\")\n",
    "print(\"Heartbeat rate\",h)\n",
    "print(\"Heartbeat rate is\",h,\"less than ideal value\")\n",
    "print(\"weight\",w)\n",
    "print(\"weight is\",w,\"less than ideal value\")\n",
    "print(\"fat percentage\",f)\n",
    "print(\"fat percentage is\",f,\"less than ideal value\")"
   ]
  },
  {
   "cell_type": "markdown",
   "metadata": {},
   "source": [
    "# 8. Suppose you are playing rummy cards, each card is given a number between 1 to 10. Each time user picks a card and you have to guess the number on the card.If you guess correct number you win else you loose.\n",
    "    \n",
    "    \n",
    "   "
   ]
  },
  {
   "cell_type": "raw",
   "metadata": {},
   "source": [
    "1. Create a variable that will take a random number as a input.\n",
    "\n",
    "  2. If you guessed the number correct it will it will display \"You  guessed right!\" then it will ask again \"Would you like to guess again? Yes or No? \". If answer is Yes then it will display \"What's you're next guess? \" if it is wrong \"Just one more try! Enter your last guess, \" Finally it will display \" That's too bad! Thanks for playing.\"\n"
   ]
  },
  {
   "cell_type": "code",
   "execution_count": 14,
   "metadata": {},
   "outputs": [
    {
     "data": {
      "text/plain": [
       "8"
      ]
     },
     "execution_count": 14,
     "metadata": {},
     "output_type": "execute_result"
    }
   ],
   "source": [
    "#  Write a Python program to generate a series of unique random numbers\n",
    "import numpy as np\n",
    "Z = np.random.randint(11)\n",
    "Z"
   ]
  },
  {
   "cell_type": "code",
   "execution_count": 47,
   "metadata": {},
   "outputs": [
    {
     "name": "stdout",
     "output_type": "stream",
     "text": [
      "Enter your guess :4\n",
      "7\n",
      "Bad luck !\n",
      "Would like to play again ? Y/N :Y\n",
      "What's your next guess? :3\n",
      "Just one more try !! Enter your last guess :6\n",
      "That's too bad ! Thanks for playing\n"
     ]
    }
   ],
   "source": [
    "choice1=int(input('Enter your guess :'))\n",
    "rummy=np.random.randint(1,10)\n",
    "print(rummy)\n",
    "if choice1 == rummy:\n",
    "  print('You guessed right !! ')\n",
    "else:\n",
    "  print('Bad luck !')\n",
    "  pick=input('Would like to play again ? Y/N :')\n",
    "  if pick=='Y':\n",
    "      choice2=int(input(\"What's your next guess? :\"))\n",
    "      if choice2==rummy:\n",
    "            print ('You guessed right !!!')\n",
    "      else:\n",
    "             \n",
    "          choice3=int(input(\"Just one more try !! Enter your last guess :\"))\n",
    "          if choice3==rummy:\n",
    "              print ('You guessed right !!!')\n",
    "          else:\n",
    "              print(\"That's too bad ! Thanks for playing\")"
   ]
  },
  {
   "cell_type": "code",
   "execution_count": 48,
   "metadata": {},
   "outputs": [
    {
     "name": "stdout",
     "output_type": "stream",
     "text": [
      "Guess the number b/w 1 to 10:4\n",
      "Random no is 10\n",
      "Would you like to play again? Say Yes/NoYes\n",
      "What's you're next guess? b/w 1 to 10:5\n",
      "Random no 8\n",
      "That's too bad! Thanks for playing.\n"
     ]
    }
   ],
   "source": [
    "a=int(input(\"Guess the number b/w 1 to 10:\"))\n",
    "#Generating random no b/w 0 to 10 and storing it in Z\n",
    "Z = np.random.randint(11)\n",
    "print(\"Random no is\",Z)\n",
    "for i in range(1,2):\n",
    "    if (a==Z):\n",
    "        print(\"You  guessed right!\")\n",
    "    else:\n",
    "        b=input(\"Would you like to play again? Say Yes/No\")\n",
    "        if(b==\"Yes\"):\n",
    "                     b=int(input(\"What's you're next guess? b/w 1 to 10:\"))\n",
    "                     Y = np.random.randint(11)\n",
    "                     print(\"Random no\",Y)\n",
    "        else:\n",
    "            print(\"Better luck next time\")\n",
    "else:\n",
    "    print(\"That's too bad! Thanks for playing.\")\n"
   ]
  },
  {
   "cell_type": "code",
   "execution_count": null,
   "metadata": {},
   "outputs": [],
   "source": []
  }
 ],
 "metadata": {
  "kernelspec": {
   "display_name": "Python 3",
   "language": "python",
   "name": "python3"
  },
  "language_info": {
   "codemirror_mode": {
    "name": "ipython",
    "version": 3
   },
   "file_extension": ".py",
   "mimetype": "text/x-python",
   "name": "python",
   "nbconvert_exporter": "python",
   "pygments_lexer": "ipython3",
   "version": "3.7.4"
  }
 },
 "nbformat": 4,
 "nbformat_minor": 2
}
