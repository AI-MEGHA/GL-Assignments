{
 "cells": [
  {
   "cell_type": "markdown",
   "metadata": {
    "colab_type": "text",
    "id": "7bFX4eN0o9Ma"
   },
   "source": [
    "<span style=\"font-family: Arial; font-weight:bold;font-size:1em;color:#f0f0f0;\">.....................\n",
    "    <span style=\"font-family: Arial; font-weight:bold;font-size:3.2em;color:#5d067d;\">ITP EXAM SET -3 (Without Solution)"
   ]
  },
  {
   "cell_type": "raw",
   "metadata": {},
   "source": [
    "from IPython.display import Image\n",
    "Image('1.png')"
   ]
  },
  {
   "cell_type": "markdown",
   "metadata": {},
   "source": [
    "---------"
   ]
  },
  {
   "cell_type": "markdown",
   "metadata": {
    "colab_type": "text",
    "id": "hEaO0m08o9Mh"
   },
   "source": [
    "# 4 Questions X 5 Marks = 20 Marks"
   ]
  },
  {
   "cell_type": "markdown",
   "metadata": {},
   "source": [
    "------------\n"
   ]
  },
  {
   "cell_type": "markdown",
   "metadata": {},
   "source": [
    "<span style=\"font-family: Arial; font-weight:bold;font-size:1.5em;color:#5d067d;\">1.Write a code to concatenate firstname and lastname and display the output, (where both are of string datatype)?"
   ]
  },
  {
   "cell_type": "code",
   "execution_count": 1,
   "metadata": {},
   "outputs": [
    {
     "name": "stdout",
     "output_type": "stream",
     "text": [
      "Enter the first name: Megha\n",
      "Enter the last name: Singhal\n",
      "Name is  Megha Singhal\n"
     ]
    }
   ],
   "source": [
    "first=input(\"Enter the first name: \")\n",
    "last=input(\"Enter the last name: \")\n",
    "print(\"Name is \",first +\" \"+ last)"
   ]
  },
  {
   "cell_type": "markdown",
   "metadata": {},
   "source": [
    "<span style=\"font-family: Arial; font-weight:bold;font-size:1.5em;color:#5d067d;\">2.  Write a code to add “alpha”:26 to the existing dictionary.\n",
    "dic={'Eddy':13,'Maria':44,'Jas':21}"
   ]
  },
  {
   "cell_type": "code",
   "execution_count": 2,
   "metadata": {},
   "outputs": [
    {
     "data": {
      "text/plain": [
       "{'Eddy': 13, 'Maria': 44, 'Jas': 21, 'alpha': 26}"
      ]
     },
     "execution_count": 2,
     "metadata": {},
     "output_type": "execute_result"
    }
   ],
   "source": [
    "dic={\"Eddy\":13,\"Maria\":44,\"Jas\":21}\n",
    "dic[\"alpha\"]=26\n",
    "dic"
   ]
  },
  {
   "cell_type": "markdown",
   "metadata": {},
   "source": [
    "<span style=\"font-family: Arial; font-weight:bold;font-size:1.5em;color:#5d067d;\">3. Python program suppose the following input=6 Then, the output should be:\n",
    "{1: 1, 2: 4, 3: 9, 4: 16, 5: 25, 6: 36}?"
   ]
  },
  {
   "cell_type": "code",
   "execution_count": 3,
   "metadata": {},
   "outputs": [
    {
     "name": "stdout",
     "output_type": "stream",
     "text": [
      "Enter the number6\n",
      "{1: 1}\n",
      "{1: 1, 2: 4}\n",
      "{1: 1, 2: 4, 3: 9}\n",
      "{1: 1, 2: 4, 3: 9, 4: 16}\n",
      "{1: 1, 2: 4, 3: 9, 4: 16, 5: 25}\n",
      "{1: 1, 2: 4, 3: 9, 4: 16, 5: 25, 6: 36}\n"
     ]
    }
   ],
   "source": [
    "n=int(input(\"Enter the number\"))\n",
    "d={}\n",
    "for i in range(1,n+1):\n",
    "    d[i]=(i*i)\n",
    "    print(d)"
   ]
  },
  {
   "cell_type": "markdown",
   "metadata": {},
   "source": [
    "<span style=\"font-family: Arial; font-weight:bold;font-size:1.5em;color:#5d067d;\">4. Python program which  generate a list and a tuple which contains every number.Suppose the following \n",
    "    \n",
    "    input = 23,56,76,12,87 Then, the output should be:\n",
    "\n",
    "    ['23', '56', '76', '12', '87']\n",
    "\n",
    "    ('23', '56', '76', '12', '87')"
   ]
  },
  {
   "cell_type": "code",
   "execution_count": 24,
   "metadata": {},
   "outputs": [
    {
     "name": "stdout",
     "output_type": "stream",
     "text": [
      "Input some comma seprated numbers : \n",
      "List :  ['']\n",
      "Tuple :  <class 'tuple'>\n"
     ]
    }
   ],
   "source": [
    "values = input(\"Input some comma seprated numbers : \")\n",
    "list = values.split(\",\")\n",
    "#tuple = tuple(list)\n",
    "print('List : ',list)\n",
    "tuple(list)\n",
    "print('Tuple : ',tuple)\n"
   ]
  },
  {
   "cell_type": "code",
   "execution_count": 25,
   "metadata": {},
   "outputs": [
    {
     "name": "stdout",
     "output_type": "stream",
     "text": [
      "23\n",
      "[23]\n",
      "56\n",
      "[23, 56]\n",
      "76\n",
      "[23, 56, 76]\n",
      "12\n",
      "[23, 56, 76, 12]\n",
      "87\n",
      "[23, 56, 76, 12, 87]\n"
     ]
    }
   ],
   "source": [
    "list=['23', '56', '76', '12', '87']\n",
    "list1=[]\n",
    "for i in list:\n",
    "    a=int(i)\n",
    "    print(a)\n",
    "    list1.append(a)\n",
    "    print(list1)\n",
    "\n",
    "   \n",
    "    \n"
   ]
  },
  {
   "cell_type": "code",
   "execution_count": 26,
   "metadata": {},
   "outputs": [
    {
     "data": {
      "text/plain": [
       "[23, 56, 76, 12, 87]"
      ]
     },
     "execution_count": 26,
     "metadata": {},
     "output_type": "execute_result"
    }
   ],
   "source": [
    "list1"
   ]
  },
  {
   "cell_type": "code",
   "execution_count": 30,
   "metadata": {},
   "outputs": [
    {
     "data": {
      "text/plain": [
       "('23', '56', '76', '12', '87')"
      ]
     },
     "execution_count": 30,
     "metadata": {},
     "output_type": "execute_result"
    }
   ],
   "source": [
    "a=tuple(list)\n",
    "a"
   ]
  },
  {
   "cell_type": "markdown",
   "metadata": {},
   "source": [
    "--------"
   ]
  },
  {
   "cell_type": "markdown",
   "metadata": {
    "colab_type": "text",
    "id": "E_HG3-eMo9NS"
   },
   "source": [
    "# 5 Questions X 10 Marks = 50 Marks"
   ]
  },
  {
   "cell_type": "markdown",
   "metadata": {},
   "source": [
    "------"
   ]
  },
  {
   "cell_type": "markdown",
   "metadata": {},
   "source": [
    "<span style=\"font-family: Arial; font-weight:bold;font-size:1.5em;color:#5d067d;\">1.  Write a code to print “Python” for multiples of three instead of the number, “Coding” for the multiples of five, “Python Coding” for multiples of both three and five (range is from 1 to 26)."
   ]
  },
  {
   "cell_type": "code",
   "execution_count": 7,
   "metadata": {},
   "outputs": [
    {
     "name": "stdout",
     "output_type": "stream",
     "text": [
      "Enter the number1\n",
      "Not divisible by 3 or 5\n"
     ]
    }
   ],
   "source": [
    "n=int(input(\"Enter the number\"))\n",
    "if n<=26:\n",
    "    for i in range(1,n+1):\n",
    "        if(n%3==0):\n",
    "            print(\"Python\")\n",
    "        elif(n%5==0):\n",
    "            print(\"Coding\")\n",
    "        elif(n%3==0 and n%5==0):\n",
    "            print(\"Python Coding\")\n",
    "        else:\n",
    "            print(\"Not divisible by 3 or 5\")\n",
    "else:\n",
    "    print(\"Out of range\")"
   ]
  },
  {
   "cell_type": "markdown",
   "metadata": {},
   "source": [
    "<span style=\"font-family: Arial; font-weight:bold;font-size:1.5em;color:#5d067d;\">2. Write a code to find the factors of 24?"
   ]
  },
  {
   "cell_type": "code",
   "execution_count": 8,
   "metadata": {},
   "outputs": [
    {
     "name": "stdout",
     "output_type": "stream",
     "text": [
      "The factors of 24 are:\n",
      "1\n",
      "2\n",
      "3\n",
      "4\n",
      "6\n",
      "8\n",
      "12\n",
      "24\n"
     ]
    }
   ],
   "source": [
    "def factors(x):\n",
    "    print(\"The factors of\",x,\"are:\")\n",
    "    for i in range(1, x + 1):\n",
    "        if x % i == 0:\n",
    "           print(i)\n",
    "factors(24)"
   ]
  },
  {
   "cell_type": "markdown",
   "metadata": {},
   "source": [
    "<span style=\"font-family: Arial; font-weight:bold;font-size:1.5em;color:#5d067d;\">3.Write a code to i) extract name elements alone, ii) multiply the number element by 6.07, iii) check whether the name element is carbon (use map).\n",
    "d=[{'name':'hydrogen','number':1,'weight':1.0},{'name':'carbon','number':2,'weight':4.002}]"
   ]
  },
  {
   "cell_type": "code",
   "execution_count": 9,
   "metadata": {},
   "outputs": [
    {
     "data": {
      "text/plain": [
       "({'name': 'hydrogen', 'number': 1, 'weight': 1.0},\n",
       " {'name': 'carbon', 'number': 2, 'weight': 4.002})"
      ]
     },
     "execution_count": 9,
     "metadata": {},
     "output_type": "execute_result"
    }
   ],
   "source": [
    "d={\"name\":\"hydrogen\",\"number\":1,\"weight\":1.0},{\"name\":\"carbon\",\"number\":2,\"weight\":4.002}\n",
    "d"
   ]
  },
  {
   "cell_type": "code",
   "execution_count": 10,
   "metadata": {},
   "outputs": [
    {
     "name": "stdout",
     "output_type": "stream",
     "text": [
      "hydrogen\n",
      "carbon\n"
     ]
    }
   ],
   "source": [
    "print(d[0][\"name\"])\n",
    "print(d[1][\"name\"])"
   ]
  },
  {
   "cell_type": "code",
   "execution_count": 11,
   "metadata": {},
   "outputs": [
    {
     "name": "stdout",
     "output_type": "stream",
     "text": [
      "6.07\n",
      "12.14\n"
     ]
    }
   ],
   "source": [
    "print(d[0][\"number\"]*6.07)\n",
    "print(d[1][\"number\"]*6.07)"
   ]
  },
  {
   "cell_type": "code",
   "execution_count": 12,
   "metadata": {},
   "outputs": [],
   "source": [
    "#print(d[0].values())==type(int)"
   ]
  },
  {
   "cell_type": "code",
   "execution_count": 13,
   "metadata": {},
   "outputs": [
    {
     "data": {
      "text/plain": [
       "'carbon'"
      ]
     },
     "execution_count": 13,
     "metadata": {},
     "output_type": "execute_result"
    }
   ],
   "source": [
    "d[1][\"name\"]"
   ]
  },
  {
   "cell_type": "markdown",
   "metadata": {},
   "source": [
    "<span style=\"font-family: Arial; font-weight:bold;font-size:1.5em;color:#5d067d;\">4.Python program which accepts 4 digit binary numbers input = 0100,0011,1010,1001 it will check divisible by 5 or not? \n"
   ]
  },
  {
   "cell_type": "code",
   "execution_count": 14,
   "metadata": {},
   "outputs": [
    {
     "name": "stdout",
     "output_type": "stream",
     "text": [
      "0100,0011,1010,1001\n",
      "None\n",
      "1010\n"
     ]
    }
   ],
   "source": [
    "items = []\n",
    "\n",
    "num = [x for x in input().split(',')]\n",
    "\n",
    "for p in num:\n",
    "\n",
    "    x = int(p, 2)\n",
    "\n",
    "    if not x%5:\n",
    "\n",
    "        print(items.append(p))\n",
    "\n",
    "print(','.join(items))"
   ]
  },
  {
   "cell_type": "code",
   "execution_count": null,
   "metadata": {},
   "outputs": [],
   "source": []
  },
  {
   "cell_type": "markdown",
   "metadata": {},
   "source": [
    "<span style=\"font-family: Arial; font-weight:bold;font-size:1.5em;color:#5d067d;\">5.Python program Suppose the following \n",
    "    \n",
    "    input = hello world! 123 \n",
    "    \n",
    "    output:LETTERS 10\n",
    "\n",
    "           DIGITS 3\n"
   ]
  },
  {
   "cell_type": "markdown",
   "metadata": {},
   "source": [
    "# Finding the number of Letters and Digits in a string"
   ]
  },
  {
   "cell_type": "code",
   "execution_count": 15,
   "metadata": {},
   "outputs": [
    {
     "name": "stdout",
     "output_type": "stream",
     "text": [
      "Input a stringhello world! 123\n",
      "Letters 10\n",
      "Digits 3\n"
     ]
    }
   ],
   "source": [
    "s = input(\"Input a string\")\n",
    "d=l=0\n",
    "for c in s:\n",
    "    if c.isdigit():\n",
    "        d=d+1\n",
    "    elif c.isalpha():\n",
    "        l=l+1\n",
    "    else:\n",
    "        pass\n",
    "print(\"Letters\", l)\n",
    "print(\"Digits\", d)"
   ]
  },
  {
   "cell_type": "markdown",
   "metadata": {},
   "source": [
    "----"
   ]
  },
  {
   "cell_type": "markdown",
   "metadata": {
    "colab_type": "text",
    "id": "NuPCcVU8o9Ox"
   },
   "source": [
    "# 1 Question X 30 Marks = 30 Marks"
   ]
  },
  {
   "cell_type": "markdown",
   "metadata": {},
   "source": [
    "-------"
   ]
  },
  {
   "cell_type": "markdown",
   "metadata": {},
   "source": [
    "<span style=\"font-family: Arial; font-weight:bold;font-size:1.5em;color:#5d067d;\">1.Write a Python Program to swap the first and last elements in the list?\n",
    "\n",
    "    A. Get the input count of \"number of elements in a list\"\n",
    "    B. Get the input of the elements one by one and create a list\n",
    "    C. Create a program to swap the first and last elements in the list\n",
    "    D. Display the results of the list before and after"
   ]
  },
  {
   "cell_type": "markdown",
   "metadata": {},
   "source": [
    "# A) Get the input count of \"number of elements in a list\""
   ]
  },
  {
   "cell_type": "code",
   "execution_count": 16,
   "metadata": {},
   "outputs": [
    {
     "name": "stdout",
     "output_type": "stream",
     "text": [
      "Enter number:3265651738327687634713875\n",
      "The number of digits in the number are: 25\n"
     ]
    }
   ],
   "source": [
    "n=int(input(\"Enter number:\"))\n",
    "count=0\n",
    "while(n>0):\n",
    "   count=count+1\n",
    "   n=n//10\n",
    "print(\"The number of digits in the number are:\",count)\n",
    "\n",
    "\n"
   ]
  },
  {
   "cell_type": "markdown",
   "metadata": {},
   "source": [
    "# B) Get the input of the elements one by one and create a list\n"
   ]
  },
  {
   "cell_type": "code",
   "execution_count": 17,
   "metadata": {},
   "outputs": [
    {
     "name": "stdout",
     "output_type": "stream",
     "text": [
      "Please enter five numbers separated by a single space only: 22 43 65 23 65\n",
      "[22, 43, 65, 23, 65]\n"
     ]
    }
   ],
   "source": [
    "user_input = input(\"Please enter five numbers separated by a single space only: \")\n",
    "input_numbers = [int(i) for i in user_input.split(' ') if i.isdigit()]\n",
    "print(input_numbers)\n",
    "\n"
   ]
  },
  {
   "cell_type": "raw",
   "metadata": {},
   "source": [
    "#Taking the user_input seperated by spaces one by one.(\"splitted with white spaces\") in a list named input_numbers and then \n",
    "printing the list\n"
   ]
  },
  {
   "cell_type": "markdown",
   "metadata": {},
   "source": [
    "# C) Create a program to swap the first and last elements in the list\n"
   ]
  },
  {
   "cell_type": "code",
   "execution_count": 18,
   "metadata": {},
   "outputs": [
    {
     "name": "stdout",
     "output_type": "stream",
     "text": [
      "[1, 2, 5, 4, 6, 7, 8]\n",
      "8\n",
      "[1, 2, 5, 4, 6, 7, 1]\n",
      "[8, 2, 5, 4, 6, 7, 1]\n"
     ]
    }
   ],
   "source": [
    "input_list = [1,2,5,4,6,7,8]\n",
    "print(input_list)\n",
    "temp = input_list[len(input_list) - 1]\n",
    "print(temp)\n",
    "input_list[len(input_list) - 1] = input_list[0]\n",
    "print(input_list)\n",
    "input_list[0] = temp\n",
    "print(input_list)\n",
    "\n"
   ]
  },
  {
   "cell_type": "raw",
   "metadata": {},
   "source": [
    "#First taken a unput_list that contains 8 elements now replacing the first element with the last element \n",
    "#Firstly taken the last element of the list (#As the indexing starts from 0 so length -1 will give the last element)\n",
    "#The last element is stored in a new varibale temp\n",
    "#Now replacing the last element with the first element and printing the list and Replacing the first element with the last which was stored in temp variable."
   ]
  },
  {
   "cell_type": "markdown",
   "metadata": {},
   "source": [
    "-----------"
   ]
  },
  {
   "cell_type": "markdown",
   "metadata": {},
   "source": [
    "# D) Display the results of the list before and after"
   ]
  },
  {
   "cell_type": "code",
   "execution_count": 19,
   "metadata": {},
   "outputs": [
    {
     "name": "stdout",
     "output_type": "stream",
     "text": [
      "before [1, 2, 5, 4, 6, 7, 8]\n",
      "after [8, 2, 5, 4, 6, 7, 1]\n"
     ]
    }
   ],
   "source": [
    "user_list = [1,2,5,4,6,7,8]\n",
    "print(\"before\",user_list)\n",
    "after = user_list[len(user_list) - 1]\n",
    "user_list[len(user_list) - 1] = user_list[0]\n",
    "user_list[0] = after\n",
    "\n",
    "print(\"after\",user_list)"
   ]
  },
  {
   "cell_type": "markdown",
   "metadata": {},
   "source": [
    "<span style=\"font-family: Arial; font-weight:bold;font-size:3em;color:#95b80b;\"> THE END"
   ]
  }
 ],
 "metadata": {
  "colab": {
   "name": "IPT-Exam-Sampleset-New (1).ipynb",
   "provenance": [],
   "version": "0.3.2"
  },
  "kernelspec": {
   "display_name": "Python 3",
   "language": "python",
   "name": "python3"
  },
  "language_info": {
   "codemirror_mode": {
    "name": "ipython",
    "version": 3
   },
   "file_extension": ".py",
   "mimetype": "text/x-python",
   "name": "python",
   "nbconvert_exporter": "python",
   "pygments_lexer": "ipython3",
   "version": "3.7.4"
  }
 },
 "nbformat": 4,
 "nbformat_minor": 1
}
